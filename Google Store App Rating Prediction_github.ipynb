{
 "cells": [
  {
   "cell_type": "markdown",
   "id": "3483f871",
   "metadata": {},
   "source": [
    "# Google Store App Rating Prediction"
   ]
  },
  {
   "cell_type": "markdown",
   "id": "6f17a70e",
   "metadata": {},
   "source": [
    "## CONTEXT:\n",
    "The Play Store apps data has enormous potential to drive app-making businesses to success. However, manyappsare being developed every single day and only a few of them become profitable. It is important for developers tobeable to predict the success of their app and incorporate features which makes an app successful. We can collect appdata and user ratings from the app stores and use it to extract insightful information. A machine learning model canbeused to predict rating for a given app, which can be used to estimate success and scope of improvement"
   ]
  },
  {
   "cell_type": "markdown",
   "id": "ee51780c",
   "metadata": {},
   "source": [
    "## PROJECT OBJECTIVE:\n",
    "The Goal is to predict the rating for an app based on the given input features like size, number of downloads etc. "
   ]
  },
  {
   "cell_type": "markdown",
   "id": "f2e79548",
   "metadata": {},
   "source": [
    "## DATA DESCRIPTION: \n",
    "- Web scraped data of 10k Play Store apps for analyzing the Android market. \n",
    "- Each app(row) has values for category, rating, size, and more."
   ]
  },
  {
   "cell_type": "markdown",
   "id": "0f2327b9",
   "metadata": {},
   "source": [
    "## ATTRIBUTE INFORMATION:\n",
    "1. App: Application name\n",
    "2. Category: Category the app belongs to\n",
    "3. Rating: Overall user rating of the app\n",
    "4. Reviews: Number of user reviews for the app\n",
    "5. Size: Size of the app\n",
    "6. Installs: Number of user downloads/installs for the app\n",
    "7. Type: Paid or Free\n",
    "8. Price: Price of the app\n",
    "9. Content Rating: Age group the app is targeted at - Children / Mature 21+ / Adult\n",
    "10.Genres: An app can belong to multiple genres (apart from its main category). For eg, a musical familygamewill belong to Music, Game, Family genres. 11.Last Updated: Date when the app was last updated on Play Store\n",
    "12.Current Ver: Current version of the app available on Play Store\n",
    "13.Android Ver: Min required Android version"
   ]
  },
  {
   "cell_type": "markdown",
   "id": "075aca3c",
   "metadata": {},
   "source": [
    "## Step 1: Importing libraries and reading dataset "
   ]
  },
  {
   "cell_type": "code",
   "execution_count": 4,
   "id": "04f99526",
   "metadata": {},
   "outputs": [],
   "source": [
    "# Importing required libraries\n",
    "%matplotlib inline\n",
    "import pandas as pd\n",
    "import numpy as np\n",
    "from sklearn import metrics\n",
    "from scipy.stats import zscore\n",
    "import seaborn as sns\n",
    "import matplotlib.pyplot as plt\n",
    "from matplotlib import pyplot\n",
    "from sklearn.model_selection import train_test_split\n",
    "from sklearn.tree import DecisionTreeClassifier\n",
    "from sklearn.ensemble import RandomForestClassifier \n",
    "from sklearn.ensemble import AdaBoostClassifier\n",
    "from sklearn.ensemble import BaggingClassifier\n",
    "from sklearn.ensemble import GradientBoostingClassifier\n",
    "from sklearn.ensemble import StackingClassifier\n",
    "from sklearn.linear_model import LogisticRegression\n",
    "from sklearn import preprocessing"
   ]
  },
  {
   "cell_type": "code",
   "execution_count": 5,
   "id": "f07ffb74",
   "metadata": {},
   "outputs": [],
   "source": [
    "import warnings\n",
    "warnings.filterwarnings('ignore')"
   ]
  },
  {
   "cell_type": "code",
   "execution_count": 6,
   "id": "881b2915",
   "metadata": {},
   "outputs": [
    {
     "data": {
      "text/html": [
       "<div>\n",
       "<style scoped>\n",
       "    .dataframe tbody tr th:only-of-type {\n",
       "        vertical-align: middle;\n",
       "    }\n",
       "\n",
       "    .dataframe tbody tr th {\n",
       "        vertical-align: top;\n",
       "    }\n",
       "\n",
       "    .dataframe thead th {\n",
       "        text-align: right;\n",
       "    }\n",
       "</style>\n",
       "<table border=\"1\" class=\"dataframe\">\n",
       "  <thead>\n",
       "    <tr style=\"text-align: right;\">\n",
       "      <th></th>\n",
       "      <th>App</th>\n",
       "      <th>Category</th>\n",
       "      <th>Rating</th>\n",
       "      <th>Reviews</th>\n",
       "      <th>Size</th>\n",
       "      <th>Installs</th>\n",
       "      <th>Type</th>\n",
       "      <th>Price</th>\n",
       "      <th>Content Rating</th>\n",
       "      <th>Genres</th>\n",
       "      <th>Last Updated</th>\n",
       "      <th>Current Ver</th>\n",
       "      <th>Android Ver</th>\n",
       "    </tr>\n",
       "  </thead>\n",
       "  <tbody>\n",
       "    <tr>\n",
       "      <th>0</th>\n",
       "      <td>Photo Editor &amp; Candy Camera &amp; Grid &amp; ScrapBook</td>\n",
       "      <td>ART_AND_DESIGN</td>\n",
       "      <td>4.1</td>\n",
       "      <td>159</td>\n",
       "      <td>19M</td>\n",
       "      <td>10,000+</td>\n",
       "      <td>Free</td>\n",
       "      <td>0</td>\n",
       "      <td>Everyone</td>\n",
       "      <td>Art &amp; Design</td>\n",
       "      <td>January 7, 2018</td>\n",
       "      <td>1.0.0</td>\n",
       "      <td>4.0.3 and up</td>\n",
       "    </tr>\n",
       "    <tr>\n",
       "      <th>1</th>\n",
       "      <td>Coloring book moana</td>\n",
       "      <td>ART_AND_DESIGN</td>\n",
       "      <td>3.9</td>\n",
       "      <td>967</td>\n",
       "      <td>14M</td>\n",
       "      <td>500,000+</td>\n",
       "      <td>Free</td>\n",
       "      <td>0</td>\n",
       "      <td>Everyone</td>\n",
       "      <td>Art &amp; Design;Pretend Play</td>\n",
       "      <td>January 15, 2018</td>\n",
       "      <td>2.0.0</td>\n",
       "      <td>4.0.3 and up</td>\n",
       "    </tr>\n",
       "    <tr>\n",
       "      <th>2</th>\n",
       "      <td>U Launcher Lite – FREE Live Cool Themes, Hide ...</td>\n",
       "      <td>ART_AND_DESIGN</td>\n",
       "      <td>4.7</td>\n",
       "      <td>87510</td>\n",
       "      <td>8.7M</td>\n",
       "      <td>5,000,000+</td>\n",
       "      <td>Free</td>\n",
       "      <td>0</td>\n",
       "      <td>Everyone</td>\n",
       "      <td>Art &amp; Design</td>\n",
       "      <td>August 1, 2018</td>\n",
       "      <td>1.2.4</td>\n",
       "      <td>4.0.3 and up</td>\n",
       "    </tr>\n",
       "    <tr>\n",
       "      <th>3</th>\n",
       "      <td>Sketch - Draw &amp; Paint</td>\n",
       "      <td>ART_AND_DESIGN</td>\n",
       "      <td>4.5</td>\n",
       "      <td>215644</td>\n",
       "      <td>25M</td>\n",
       "      <td>50,000,000+</td>\n",
       "      <td>Free</td>\n",
       "      <td>0</td>\n",
       "      <td>Teen</td>\n",
       "      <td>Art &amp; Design</td>\n",
       "      <td>June 8, 2018</td>\n",
       "      <td>Varies with device</td>\n",
       "      <td>4.2 and up</td>\n",
       "    </tr>\n",
       "    <tr>\n",
       "      <th>4</th>\n",
       "      <td>Pixel Draw - Number Art Coloring Book</td>\n",
       "      <td>ART_AND_DESIGN</td>\n",
       "      <td>4.3</td>\n",
       "      <td>967</td>\n",
       "      <td>2.8M</td>\n",
       "      <td>100,000+</td>\n",
       "      <td>Free</td>\n",
       "      <td>0</td>\n",
       "      <td>Everyone</td>\n",
       "      <td>Art &amp; Design;Creativity</td>\n",
       "      <td>June 20, 2018</td>\n",
       "      <td>1.1</td>\n",
       "      <td>4.4 and up</td>\n",
       "    </tr>\n",
       "  </tbody>\n",
       "</table>\n",
       "</div>"
      ],
      "text/plain": [
       "                                                 App        Category  Rating  \\\n",
       "0     Photo Editor & Candy Camera & Grid & ScrapBook  ART_AND_DESIGN     4.1   \n",
       "1                                Coloring book moana  ART_AND_DESIGN     3.9   \n",
       "2  U Launcher Lite – FREE Live Cool Themes, Hide ...  ART_AND_DESIGN     4.7   \n",
       "3                              Sketch - Draw & Paint  ART_AND_DESIGN     4.5   \n",
       "4              Pixel Draw - Number Art Coloring Book  ART_AND_DESIGN     4.3   \n",
       "\n",
       "  Reviews  Size     Installs  Type Price Content Rating  \\\n",
       "0     159   19M      10,000+  Free     0       Everyone   \n",
       "1     967   14M     500,000+  Free     0       Everyone   \n",
       "2   87510  8.7M   5,000,000+  Free     0       Everyone   \n",
       "3  215644   25M  50,000,000+  Free     0           Teen   \n",
       "4     967  2.8M     100,000+  Free     0       Everyone   \n",
       "\n",
       "                      Genres      Last Updated         Current Ver  \\\n",
       "0               Art & Design   January 7, 2018               1.0.0   \n",
       "1  Art & Design;Pretend Play  January 15, 2018               2.0.0   \n",
       "2               Art & Design    August 1, 2018               1.2.4   \n",
       "3               Art & Design      June 8, 2018  Varies with device   \n",
       "4    Art & Design;Creativity     June 20, 2018                 1.1   \n",
       "\n",
       "    Android Ver  \n",
       "0  4.0.3 and up  \n",
       "1  4.0.3 and up  \n",
       "2  4.0.3 and up  \n",
       "3    4.2 and up  \n",
       "4    4.4 and up  "
      ]
     },
     "execution_count": 6,
     "metadata": {},
     "output_type": "execute_result"
    }
   ],
   "source": [
    "# Reading dataset \n",
    "df = pd.read_csv('Apps_data.csv')\n",
    "df.head()"
   ]
  },
  {
   "cell_type": "code",
   "execution_count": 7,
   "id": "a522f266",
   "metadata": {},
   "outputs": [
    {
     "data": {
      "text/plain": [
       "(10841, 13)"
      ]
     },
     "execution_count": 7,
     "metadata": {},
     "output_type": "execute_result"
    }
   ],
   "source": [
    "df.shape"
   ]
  },
  {
   "cell_type": "code",
   "execution_count": 8,
   "id": "036f5c2d",
   "metadata": {},
   "outputs": [
    {
     "name": "stdout",
     "output_type": "stream",
     "text": [
      "<class 'pandas.core.frame.DataFrame'>\n",
      "RangeIndex: 10841 entries, 0 to 10840\n",
      "Data columns (total 13 columns):\n",
      " #   Column          Non-Null Count  Dtype  \n",
      "---  ------          --------------  -----  \n",
      " 0   App             10841 non-null  object \n",
      " 1   Category        10841 non-null  object \n",
      " 2   Rating          9367 non-null   float64\n",
      " 3   Reviews         10841 non-null  object \n",
      " 4   Size            10841 non-null  object \n",
      " 5   Installs        10841 non-null  object \n",
      " 6   Type            10840 non-null  object \n",
      " 7   Price           10841 non-null  object \n",
      " 8   Content Rating  10840 non-null  object \n",
      " 9   Genres          10841 non-null  object \n",
      " 10  Last Updated    10841 non-null  object \n",
      " 11  Current Ver     10833 non-null  object \n",
      " 12  Android Ver     10838 non-null  object \n",
      "dtypes: float64(1), object(12)\n",
      "memory usage: 1.1+ MB\n"
     ]
    }
   ],
   "source": [
    "df.info()"
   ]
  },
  {
   "cell_type": "markdown",
   "id": "3d8b16da",
   "metadata": {},
   "source": [
    "- We have 13 columns and 10841 instances which seems quite less for the number of columns we have\n",
    "- All the columns are non-numeric except 'Rating' column which is our target column\n",
    "- We observe few missing values in some columns but rating column has the most"
   ]
  },
  {
   "cell_type": "markdown",
   "id": "b05cc40c",
   "metadata": {},
   "source": [
    "## Step2: Data Cleansing and EDA"
   ]
  },
  {
   "cell_type": "markdown",
   "id": "33791db9",
   "metadata": {},
   "source": [
    "### 2.1 Summary stats "
   ]
  },
  {
   "cell_type": "code",
   "execution_count": 9,
   "id": "187df037",
   "metadata": {},
   "outputs": [
    {
     "data": {
      "text/html": [
       "<div>\n",
       "<style scoped>\n",
       "    .dataframe tbody tr th:only-of-type {\n",
       "        vertical-align: middle;\n",
       "    }\n",
       "\n",
       "    .dataframe tbody tr th {\n",
       "        vertical-align: top;\n",
       "    }\n",
       "\n",
       "    .dataframe thead th {\n",
       "        text-align: right;\n",
       "    }\n",
       "</style>\n",
       "<table border=\"1\" class=\"dataframe\">\n",
       "  <thead>\n",
       "    <tr style=\"text-align: right;\">\n",
       "      <th></th>\n",
       "      <th>count</th>\n",
       "      <th>mean</th>\n",
       "      <th>std</th>\n",
       "      <th>min</th>\n",
       "      <th>25%</th>\n",
       "      <th>50%</th>\n",
       "      <th>75%</th>\n",
       "      <th>max</th>\n",
       "    </tr>\n",
       "  </thead>\n",
       "  <tbody>\n",
       "    <tr>\n",
       "      <th>Rating</th>\n",
       "      <td>9367.0</td>\n",
       "      <td>4.193338</td>\n",
       "      <td>0.537431</td>\n",
       "      <td>1.0</td>\n",
       "      <td>4.0</td>\n",
       "      <td>4.3</td>\n",
       "      <td>4.5</td>\n",
       "      <td>19.0</td>\n",
       "    </tr>\n",
       "  </tbody>\n",
       "</table>\n",
       "</div>"
      ],
      "text/plain": [
       "         count      mean       std  min  25%  50%  75%   max\n",
       "Rating  9367.0  4.193338  0.537431  1.0  4.0  4.3  4.5  19.0"
      ]
     },
     "execution_count": 9,
     "metadata": {},
     "output_type": "execute_result"
    }
   ],
   "source": [
    "df.describe().transpose()"
   ]
  },
  {
   "cell_type": "markdown",
   "id": "4593e22a",
   "metadata": {},
   "source": [
    "- From above table we can observe that the rating feature is highly left skewed"
   ]
  },
  {
   "cell_type": "code",
   "execution_count": 10,
   "id": "cdd9d399",
   "metadata": {},
   "outputs": [
    {
     "data": {
      "text/plain": [
       "<AxesSubplot:xlabel='Rating', ylabel='Density'>"
      ]
     },
     "execution_count": 10,
     "metadata": {},
     "output_type": "execute_result"
    },
    {
     "data": {
      "image/png": "[encoded data removed]",
      "text/plain": [
       "<Figure size 432x288 with 1 Axes>"
      ]
     },
     "metadata": {
      "needs_background": "light"
     },
     "output_type": "display_data"
    }
   ],
   "source": [
    "sns.kdeplot(df.Rating) # we can observe the heavy skewnes from kde plot as well"
   ]
  },
  {
   "cell_type": "code",
   "execution_count": 11,
   "id": "ed7de732",
   "metadata": {},
   "outputs": [
    {
     "data": {
      "text/html": [
       "<div>\n",
       "<style scoped>\n",
       "    .dataframe tbody tr th:only-of-type {\n",
       "        vertical-align: middle;\n",
       "    }\n",
       "\n",
       "    .dataframe tbody tr th {\n",
       "        vertical-align: top;\n",
       "    }\n",
       "\n",
       "    .dataframe thead th {\n",
       "        text-align: right;\n",
       "    }\n",
       "</style>\n",
       "<table border=\"1\" class=\"dataframe\">\n",
       "  <thead>\n",
       "    <tr style=\"text-align: right;\">\n",
       "      <th></th>\n",
       "      <th>count</th>\n",
       "      <th>unique</th>\n",
       "      <th>top</th>\n",
       "      <th>freq</th>\n",
       "    </tr>\n",
       "  </thead>\n",
       "  <tbody>\n",
       "    <tr>\n",
       "      <th>App</th>\n",
       "      <td>10841</td>\n",
       "      <td>9660</td>\n",
       "      <td>ROBLOX</td>\n",
       "      <td>9</td>\n",
       "    </tr>\n",
       "    <tr>\n",
       "      <th>Category</th>\n",
       "      <td>10841</td>\n",
       "      <td>34</td>\n",
       "      <td>FAMILY</td>\n",
       "      <td>1972</td>\n",
       "    </tr>\n",
       "    <tr>\n",
       "      <th>Reviews</th>\n",
       "      <td>10841</td>\n",
       "      <td>6002</td>\n",
       "      <td>0</td>\n",
       "      <td>596</td>\n",
       "    </tr>\n",
       "    <tr>\n",
       "      <th>Size</th>\n",
       "      <td>10841</td>\n",
       "      <td>462</td>\n",
       "      <td>Varies with device</td>\n",
       "      <td>1695</td>\n",
       "    </tr>\n",
       "    <tr>\n",
       "      <th>Installs</th>\n",
       "      <td>10841</td>\n",
       "      <td>22</td>\n",
       "      <td>1,000,000+</td>\n",
       "      <td>1579</td>\n",
       "    </tr>\n",
       "    <tr>\n",
       "      <th>Type</th>\n",
       "      <td>10840</td>\n",
       "      <td>3</td>\n",
       "      <td>Free</td>\n",
       "      <td>10039</td>\n",
       "    </tr>\n",
       "    <tr>\n",
       "      <th>Price</th>\n",
       "      <td>10841</td>\n",
       "      <td>93</td>\n",
       "      <td>0</td>\n",
       "      <td>10040</td>\n",
       "    </tr>\n",
       "    <tr>\n",
       "      <th>Content Rating</th>\n",
       "      <td>10840</td>\n",
       "      <td>6</td>\n",
       "      <td>Everyone</td>\n",
       "      <td>8714</td>\n",
       "    </tr>\n",
       "    <tr>\n",
       "      <th>Genres</th>\n",
       "      <td>10841</td>\n",
       "      <td>120</td>\n",
       "      <td>Tools</td>\n",
       "      <td>842</td>\n",
       "    </tr>\n",
       "    <tr>\n",
       "      <th>Last Updated</th>\n",
       "      <td>10841</td>\n",
       "      <td>1378</td>\n",
       "      <td>August 3, 2018</td>\n",
       "      <td>326</td>\n",
       "    </tr>\n",
       "    <tr>\n",
       "      <th>Current Ver</th>\n",
       "      <td>10833</td>\n",
       "      <td>2832</td>\n",
       "      <td>Varies with device</td>\n",
       "      <td>1459</td>\n",
       "    </tr>\n",
       "    <tr>\n",
       "      <th>Android Ver</th>\n",
       "      <td>10838</td>\n",
       "      <td>33</td>\n",
       "      <td>4.1 and up</td>\n",
       "      <td>2451</td>\n",
       "    </tr>\n",
       "  </tbody>\n",
       "</table>\n",
       "</div>"
      ],
      "text/plain": [
       "                count unique                 top   freq\n",
       "App             10841   9660              ROBLOX      9\n",
       "Category        10841     34              FAMILY   1972\n",
       "Reviews         10841   6002                   0    596\n",
       "Size            10841    462  Varies with device   1695\n",
       "Installs        10841     22          1,000,000+   1579\n",
       "Type            10840      3                Free  10039\n",
       "Price           10841     93                   0  10040\n",
       "Content Rating  10840      6            Everyone   8714\n",
       "Genres          10841    120               Tools    842\n",
       "Last Updated    10841   1378      August 3, 2018    326\n",
       "Current Ver     10833   2832  Varies with device   1459\n",
       "Android Ver     10838     33          4.1 and up   2451"
      ]
     },
     "execution_count": 11,
     "metadata": {},
     "output_type": "execute_result"
    }
   ],
   "source": [
    "df.describe(include='O').transpose()"
   ]
  },
  {
   "cell_type": "markdown",
   "id": "d99dbf32",
   "metadata": {},
   "source": [
    "- There seem many duplicates in App column\n",
    "- There are 34 unique categories of apps which shows a diverse dataset\n",
    "- Reviews, Size, Installs and Price columns should be int type. We need to work on it\n",
    "- From Type column we see most of the apps are free with very few charged ones. We also see 3 categories which might indicate null values \n",
    "- Content Rating shows most of the columns target all type of customers"
   ]
  },
  {
   "cell_type": "markdown",
   "id": "187ca17d",
   "metadata": {},
   "source": [
    "### 2.2 Duplicates handeling"
   ]
  },
  {
   "cell_type": "code",
   "execution_count": 12,
   "id": "c3ddac19",
   "metadata": {},
   "outputs": [
    {
     "data": {
      "text/plain": [
       "1181"
      ]
     },
     "execution_count": 12,
     "metadata": {},
     "output_type": "execute_result"
    }
   ],
   "source": [
    "df.duplicated('App').sum()"
   ]
  },
  {
   "cell_type": "code",
   "execution_count": 13,
   "id": "ced9dbad",
   "metadata": {},
   "outputs": [],
   "source": [
    "df = df.drop_duplicates(subset='App')"
   ]
  },
  {
   "cell_type": "code",
   "execution_count": 14,
   "id": "655a6899",
   "metadata": {},
   "outputs": [
    {
     "data": {
      "text/plain": [
       "(9660, 13)"
      ]
     },
     "execution_count": 14,
     "metadata": {},
     "output_type": "execute_result"
    }
   ],
   "source": [
    "df.shape"
   ]
  },
  {
   "cell_type": "markdown",
   "id": "82178a8f",
   "metadata": {},
   "source": [
    "### 2.3 Unique categories of column 'Category'"
   ]
  },
  {
   "cell_type": "code",
   "execution_count": 15,
   "id": "225b99ce",
   "metadata": {},
   "outputs": [
    {
     "data": {
      "text/plain": [
       "array(['ART_AND_DESIGN', 'AUTO_AND_VEHICLES', 'BEAUTY',\n",
       "       'BOOKS_AND_REFERENCE', 'BUSINESS', 'COMICS', 'COMMUNICATION',\n",
       "       'DATING', 'EDUCATION', 'ENTERTAINMENT', 'EVENTS', 'FINANCE',\n",
       "       'FOOD_AND_DRINK', 'HEALTH_AND_FITNESS', 'HOUSE_AND_HOME',\n",
       "       'LIBRARIES_AND_DEMO', 'LIFESTYLE', 'GAME', 'FAMILY', 'MEDICAL',\n",
       "       'SOCIAL', 'SHOPPING', 'PHOTOGRAPHY', 'SPORTS', 'TRAVEL_AND_LOCAL',\n",
       "       'TOOLS', 'PERSONALIZATION', 'PRODUCTIVITY', 'PARENTING', 'WEATHER',\n",
       "       'VIDEO_PLAYERS', 'NEWS_AND_MAGAZINES', 'MAPS_AND_NAVIGATION',\n",
       "       '1.9'], dtype=object)"
      ]
     },
     "execution_count": 15,
     "metadata": {},
     "output_type": "execute_result"
    }
   ],
   "source": [
    "df['Category'].unique() "
   ]
  },
  {
   "cell_type": "code",
   "execution_count": 16,
   "id": "19fd7df6",
   "metadata": {},
   "outputs": [
    {
     "data": {
      "text/html": [
       "<div>\n",
       "<style scoped>\n",
       "    .dataframe tbody tr th:only-of-type {\n",
       "        vertical-align: middle;\n",
       "    }\n",
       "\n",
       "    .dataframe tbody tr th {\n",
       "        vertical-align: top;\n",
       "    }\n",
       "\n",
       "    .dataframe thead th {\n",
       "        text-align: right;\n",
       "    }\n",
       "</style>\n",
       "<table border=\"1\" class=\"dataframe\">\n",
       "  <thead>\n",
       "    <tr style=\"text-align: right;\">\n",
       "      <th></th>\n",
       "      <th>App</th>\n",
       "      <th>Category</th>\n",
       "      <th>Rating</th>\n",
       "      <th>Reviews</th>\n",
       "      <th>Size</th>\n",
       "      <th>Installs</th>\n",
       "      <th>Type</th>\n",
       "      <th>Price</th>\n",
       "      <th>Content Rating</th>\n",
       "      <th>Genres</th>\n",
       "      <th>Last Updated</th>\n",
       "      <th>Current Ver</th>\n",
       "      <th>Android Ver</th>\n",
       "    </tr>\n",
       "  </thead>\n",
       "  <tbody>\n",
       "    <tr>\n",
       "      <th>10472</th>\n",
       "      <td>Life Made WI-Fi Touchscreen Photo Frame</td>\n",
       "      <td>1.9</td>\n",
       "      <td>19.0</td>\n",
       "      <td>3.0M</td>\n",
       "      <td>1,000+</td>\n",
       "      <td>Free</td>\n",
       "      <td>0</td>\n",
       "      <td>Everyone</td>\n",
       "      <td>NaN</td>\n",
       "      <td>February 11, 2018</td>\n",
       "      <td>1.0.19</td>\n",
       "      <td>4.0 and up</td>\n",
       "      <td>NaN</td>\n",
       "    </tr>\n",
       "  </tbody>\n",
       "</table>\n",
       "</div>"
      ],
      "text/plain": [
       "                                           App Category  Rating Reviews  \\\n",
       "10472  Life Made WI-Fi Touchscreen Photo Frame      1.9    19.0    3.0M   \n",
       "\n",
       "         Size Installs Type     Price Content Rating             Genres  \\\n",
       "10472  1,000+     Free    0  Everyone            NaN  February 11, 2018   \n",
       "\n",
       "      Last Updated Current Ver Android Ver  \n",
       "10472       1.0.19  4.0 and up         NaN  "
      ]
     },
     "execution_count": 16,
     "metadata": {},
     "output_type": "execute_result"
    }
   ],
   "source": [
    "df[df['Category'] == '1.9']"
   ]
  },
  {
   "cell_type": "code",
   "execution_count": 17,
   "id": "4df1962b",
   "metadata": {},
   "outputs": [
    {
     "data": {
      "text/plain": [
       "(9659, 13)"
      ]
     },
     "execution_count": 17,
     "metadata": {},
     "output_type": "execute_result"
    }
   ],
   "source": [
    "df = df[~(df['Category'] == '1.9')]\n",
    "df.shape"
   ]
  },
  {
   "cell_type": "markdown",
   "id": "21eb7974",
   "metadata": {},
   "source": [
    "### 2.4 'Rating' column missing values handeling and categorising it"
   ]
  },
  {
   "cell_type": "code",
   "execution_count": 18,
   "id": "2d0c4826",
   "metadata": {},
   "outputs": [
    {
     "data": {
      "text/plain": [
       "8196"
      ]
     },
     "execution_count": 18,
     "metadata": {},
     "output_type": "execute_result"
    }
   ],
   "source": [
    "df['Rating'].count()"
   ]
  },
  {
   "cell_type": "code",
   "execution_count": 19,
   "id": "203ec461",
   "metadata": {},
   "outputs": [
    {
     "data": {
      "text/plain": [
       "(8196, 13)"
      ]
     },
     "execution_count": 19,
     "metadata": {},
     "output_type": "execute_result"
    }
   ],
   "source": [
    "df = df[df['Rating'].notna()]\n",
    "df.shape"
   ]
  },
  {
   "cell_type": "code",
   "execution_count": 20,
   "id": "3abbdc7c",
   "metadata": {},
   "outputs": [],
   "source": [
    "df['Rating_category'] = np.where(df['Rating']> 3.5, 'high', 'low')"
   ]
  },
  {
   "cell_type": "code",
   "execution_count": 21,
   "id": "330f231d",
   "metadata": {},
   "outputs": [
    {
     "data": {
      "text/html": [
       "<div>\n",
       "<style scoped>\n",
       "    .dataframe tbody tr th:only-of-type {\n",
       "        vertical-align: middle;\n",
       "    }\n",
       "\n",
       "    .dataframe tbody tr th {\n",
       "        vertical-align: top;\n",
       "    }\n",
       "\n",
       "    .dataframe thead th {\n",
       "        text-align: right;\n",
       "    }\n",
       "</style>\n",
       "<table border=\"1\" class=\"dataframe\">\n",
       "  <thead>\n",
       "    <tr style=\"text-align: right;\">\n",
       "      <th></th>\n",
       "      <th>App</th>\n",
       "      <th>Category</th>\n",
       "      <th>Rating</th>\n",
       "      <th>Reviews</th>\n",
       "      <th>Size</th>\n",
       "      <th>Installs</th>\n",
       "      <th>Type</th>\n",
       "      <th>Price</th>\n",
       "      <th>Content Rating</th>\n",
       "      <th>Genres</th>\n",
       "      <th>Last Updated</th>\n",
       "      <th>Current Ver</th>\n",
       "      <th>Android Ver</th>\n",
       "      <th>Rating_category</th>\n",
       "    </tr>\n",
       "  </thead>\n",
       "  <tbody>\n",
       "    <tr>\n",
       "      <th>0</th>\n",
       "      <td>Photo Editor &amp; Candy Camera &amp; Grid &amp; ScrapBook</td>\n",
       "      <td>ART_AND_DESIGN</td>\n",
       "      <td>4.1</td>\n",
       "      <td>159</td>\n",
       "      <td>19M</td>\n",
       "      <td>10,000+</td>\n",
       "      <td>Free</td>\n",
       "      <td>0</td>\n",
       "      <td>Everyone</td>\n",
       "      <td>Art &amp; Design</td>\n",
       "      <td>January 7, 2018</td>\n",
       "      <td>1.0.0</td>\n",
       "      <td>4.0.3 and up</td>\n",
       "      <td>high</td>\n",
       "    </tr>\n",
       "    <tr>\n",
       "      <th>1</th>\n",
       "      <td>Coloring book moana</td>\n",
       "      <td>ART_AND_DESIGN</td>\n",
       "      <td>3.9</td>\n",
       "      <td>967</td>\n",
       "      <td>14M</td>\n",
       "      <td>500,000+</td>\n",
       "      <td>Free</td>\n",
       "      <td>0</td>\n",
       "      <td>Everyone</td>\n",
       "      <td>Art &amp; Design;Pretend Play</td>\n",
       "      <td>January 15, 2018</td>\n",
       "      <td>2.0.0</td>\n",
       "      <td>4.0.3 and up</td>\n",
       "      <td>high</td>\n",
       "    </tr>\n",
       "    <tr>\n",
       "      <th>2</th>\n",
       "      <td>U Launcher Lite – FREE Live Cool Themes, Hide ...</td>\n",
       "      <td>ART_AND_DESIGN</td>\n",
       "      <td>4.7</td>\n",
       "      <td>87510</td>\n",
       "      <td>8.7M</td>\n",
       "      <td>5,000,000+</td>\n",
       "      <td>Free</td>\n",
       "      <td>0</td>\n",
       "      <td>Everyone</td>\n",
       "      <td>Art &amp; Design</td>\n",
       "      <td>August 1, 2018</td>\n",
       "      <td>1.2.4</td>\n",
       "      <td>4.0.3 and up</td>\n",
       "      <td>high</td>\n",
       "    </tr>\n",
       "    <tr>\n",
       "      <th>3</th>\n",
       "      <td>Sketch - Draw &amp; Paint</td>\n",
       "      <td>ART_AND_DESIGN</td>\n",
       "      <td>4.5</td>\n",
       "      <td>215644</td>\n",
       "      <td>25M</td>\n",
       "      <td>50,000,000+</td>\n",
       "      <td>Free</td>\n",
       "      <td>0</td>\n",
       "      <td>Teen</td>\n",
       "      <td>Art &amp; Design</td>\n",
       "      <td>June 8, 2018</td>\n",
       "      <td>Varies with device</td>\n",
       "      <td>4.2 and up</td>\n",
       "      <td>high</td>\n",
       "    </tr>\n",
       "    <tr>\n",
       "      <th>4</th>\n",
       "      <td>Pixel Draw - Number Art Coloring Book</td>\n",
       "      <td>ART_AND_DESIGN</td>\n",
       "      <td>4.3</td>\n",
       "      <td>967</td>\n",
       "      <td>2.8M</td>\n",
       "      <td>100,000+</td>\n",
       "      <td>Free</td>\n",
       "      <td>0</td>\n",
       "      <td>Everyone</td>\n",
       "      <td>Art &amp; Design;Creativity</td>\n",
       "      <td>June 20, 2018</td>\n",
       "      <td>1.1</td>\n",
       "      <td>4.4 and up</td>\n",
       "      <td>high</td>\n",
       "    </tr>\n",
       "    <tr>\n",
       "      <th>...</th>\n",
       "      <td>...</td>\n",
       "      <td>...</td>\n",
       "      <td>...</td>\n",
       "      <td>...</td>\n",
       "      <td>...</td>\n",
       "      <td>...</td>\n",
       "      <td>...</td>\n",
       "      <td>...</td>\n",
       "      <td>...</td>\n",
       "      <td>...</td>\n",
       "      <td>...</td>\n",
       "      <td>...</td>\n",
       "      <td>...</td>\n",
       "      <td>...</td>\n",
       "    </tr>\n",
       "    <tr>\n",
       "      <th>10834</th>\n",
       "      <td>FR Calculator</td>\n",
       "      <td>FAMILY</td>\n",
       "      <td>4.0</td>\n",
       "      <td>7</td>\n",
       "      <td>2.6M</td>\n",
       "      <td>500+</td>\n",
       "      <td>Free</td>\n",
       "      <td>0</td>\n",
       "      <td>Everyone</td>\n",
       "      <td>Education</td>\n",
       "      <td>June 18, 2017</td>\n",
       "      <td>1.0.0</td>\n",
       "      <td>4.1 and up</td>\n",
       "      <td>high</td>\n",
       "    </tr>\n",
       "    <tr>\n",
       "      <th>10836</th>\n",
       "      <td>Sya9a Maroc - FR</td>\n",
       "      <td>FAMILY</td>\n",
       "      <td>4.5</td>\n",
       "      <td>38</td>\n",
       "      <td>53M</td>\n",
       "      <td>5,000+</td>\n",
       "      <td>Free</td>\n",
       "      <td>0</td>\n",
       "      <td>Everyone</td>\n",
       "      <td>Education</td>\n",
       "      <td>July 25, 2017</td>\n",
       "      <td>1.48</td>\n",
       "      <td>4.1 and up</td>\n",
       "      <td>high</td>\n",
       "    </tr>\n",
       "    <tr>\n",
       "      <th>10837</th>\n",
       "      <td>Fr. Mike Schmitz Audio Teachings</td>\n",
       "      <td>FAMILY</td>\n",
       "      <td>5.0</td>\n",
       "      <td>4</td>\n",
       "      <td>3.6M</td>\n",
       "      <td>100+</td>\n",
       "      <td>Free</td>\n",
       "      <td>0</td>\n",
       "      <td>Everyone</td>\n",
       "      <td>Education</td>\n",
       "      <td>July 6, 2018</td>\n",
       "      <td>1.0</td>\n",
       "      <td>4.1 and up</td>\n",
       "      <td>high</td>\n",
       "    </tr>\n",
       "    <tr>\n",
       "      <th>10839</th>\n",
       "      <td>The SCP Foundation DB fr nn5n</td>\n",
       "      <td>BOOKS_AND_REFERENCE</td>\n",
       "      <td>4.5</td>\n",
       "      <td>114</td>\n",
       "      <td>Varies with device</td>\n",
       "      <td>1,000+</td>\n",
       "      <td>Free</td>\n",
       "      <td>0</td>\n",
       "      <td>Mature 17+</td>\n",
       "      <td>Books &amp; Reference</td>\n",
       "      <td>January 19, 2015</td>\n",
       "      <td>Varies with device</td>\n",
       "      <td>Varies with device</td>\n",
       "      <td>high</td>\n",
       "    </tr>\n",
       "    <tr>\n",
       "      <th>10840</th>\n",
       "      <td>iHoroscope - 2018 Daily Horoscope &amp; Astrology</td>\n",
       "      <td>LIFESTYLE</td>\n",
       "      <td>4.5</td>\n",
       "      <td>398307</td>\n",
       "      <td>19M</td>\n",
       "      <td>10,000,000+</td>\n",
       "      <td>Free</td>\n",
       "      <td>0</td>\n",
       "      <td>Everyone</td>\n",
       "      <td>Lifestyle</td>\n",
       "      <td>July 25, 2018</td>\n",
       "      <td>Varies with device</td>\n",
       "      <td>Varies with device</td>\n",
       "      <td>high</td>\n",
       "    </tr>\n",
       "  </tbody>\n",
       "</table>\n",
       "<p>8196 rows × 14 columns</p>\n",
       "</div>"
      ],
      "text/plain": [
       "                                                     App             Category  \\\n",
       "0         Photo Editor & Candy Camera & Grid & ScrapBook       ART_AND_DESIGN   \n",
       "1                                    Coloring book moana       ART_AND_DESIGN   \n",
       "2      U Launcher Lite – FREE Live Cool Themes, Hide ...       ART_AND_DESIGN   \n",
       "3                                  Sketch - Draw & Paint       ART_AND_DESIGN   \n",
       "4                  Pixel Draw - Number Art Coloring Book       ART_AND_DESIGN   \n",
       "...                                                  ...                  ...   \n",
       "10834                                      FR Calculator               FAMILY   \n",
       "10836                                   Sya9a Maroc - FR               FAMILY   \n",
       "10837                   Fr. Mike Schmitz Audio Teachings               FAMILY   \n",
       "10839                      The SCP Foundation DB fr nn5n  BOOKS_AND_REFERENCE   \n",
       "10840      iHoroscope - 2018 Daily Horoscope & Astrology            LIFESTYLE   \n",
       "\n",
       "       Rating Reviews                Size     Installs  Type Price  \\\n",
       "0         4.1     159                 19M      10,000+  Free     0   \n",
       "1         3.9     967                 14M     500,000+  Free     0   \n",
       "2         4.7   87510                8.7M   5,000,000+  Free     0   \n",
       "3         4.5  215644                 25M  50,000,000+  Free     0   \n",
       "4         4.3     967                2.8M     100,000+  Free     0   \n",
       "...       ...     ...                 ...          ...   ...   ...   \n",
       "10834     4.0       7                2.6M         500+  Free     0   \n",
       "10836     4.5      38                 53M       5,000+  Free     0   \n",
       "10837     5.0       4                3.6M         100+  Free     0   \n",
       "10839     4.5     114  Varies with device       1,000+  Free     0   \n",
       "10840     4.5  398307                 19M  10,000,000+  Free     0   \n",
       "\n",
       "      Content Rating                     Genres      Last Updated  \\\n",
       "0           Everyone               Art & Design   January 7, 2018   \n",
       "1           Everyone  Art & Design;Pretend Play  January 15, 2018   \n",
       "2           Everyone               Art & Design    August 1, 2018   \n",
       "3               Teen               Art & Design      June 8, 2018   \n",
       "4           Everyone    Art & Design;Creativity     June 20, 2018   \n",
       "...              ...                        ...               ...   \n",
       "10834       Everyone                  Education     June 18, 2017   \n",
       "10836       Everyone                  Education     July 25, 2017   \n",
       "10837       Everyone                  Education      July 6, 2018   \n",
       "10839     Mature 17+          Books & Reference  January 19, 2015   \n",
       "10840       Everyone                  Lifestyle     July 25, 2018   \n",
       "\n",
       "              Current Ver         Android Ver Rating_category  \n",
       "0                   1.0.0        4.0.3 and up            high  \n",
       "1                   2.0.0        4.0.3 and up            high  \n",
       "2                   1.2.4        4.0.3 and up            high  \n",
       "3      Varies with device          4.2 and up            high  \n",
       "4                     1.1          4.4 and up            high  \n",
       "...                   ...                 ...             ...  \n",
       "10834               1.0.0          4.1 and up            high  \n",
       "10836                1.48          4.1 and up            high  \n",
       "10837                 1.0          4.1 and up            high  \n",
       "10839  Varies with device  Varies with device            high  \n",
       "10840  Varies with device  Varies with device            high  \n",
       "\n",
       "[8196 rows x 14 columns]"
      ]
     },
     "execution_count": 21,
     "metadata": {},
     "output_type": "execute_result"
    }
   ],
   "source": [
    "df"
   ]
  },
  {
   "cell_type": "markdown",
   "id": "6cc334b5",
   "metadata": {},
   "source": [
    "### 2.5 Distribution of 'Rating_category' col:"
   ]
  },
  {
   "cell_type": "code",
   "execution_count": 22,
   "id": "77d89046",
   "metadata": {},
   "outputs": [
    {
     "data": {
      "text/plain": [
       "<AxesSubplot:xlabel='Rating_category', ylabel='count'>"
      ]
     },
     "execution_count": 22,
     "metadata": {},
     "output_type": "execute_result"
    },
    {
     "data": {
      "image/png": "[encoded data removed]",
      "text/plain": [
       "<Figure size 432x288 with 1 Axes>"
      ]
     },
     "metadata": {
      "needs_background": "light"
     },
     "output_type": "display_data"
    }
   ],
   "source": [
    "sns.countplot(x='Rating_category', data=df)"
   ]
  },
  {
   "cell_type": "markdown",
   "id": "f337e69e",
   "metadata": {},
   "source": [
    "From above distribution of 'Rating_category' we can clearly see that there is huge imbalance in data according to high and low rated app categories"
   ]
  },
  {
   "cell_type": "markdown",
   "id": "f111bb07",
   "metadata": {},
   "source": [
    "### 2.6 'Reviews' column datatype to numeric"
   ]
  },
  {
   "cell_type": "code",
   "execution_count": 23,
   "id": "899dd9ab",
   "metadata": {},
   "outputs": [
    {
     "data": {
      "text/plain": [
       "dtype('int32')"
      ]
     },
     "execution_count": 23,
     "metadata": {},
     "output_type": "execute_result"
    }
   ],
   "source": [
    "df['Reviews'] = df['Reviews'].astype('int')\n",
    "df['Reviews'].dtype"
   ]
  },
  {
   "cell_type": "code",
   "execution_count": 24,
   "id": "fc2cde1d",
   "metadata": {},
   "outputs": [
    {
     "data": {
      "text/plain": [
       "<AxesSubplot:xlabel='Reviews'>"
      ]
     },
     "execution_count": 24,
     "metadata": {},
     "output_type": "execute_result"
    },
    {
     "data": {
      "image/png": "[encoded data removed]",
      "text/plain": [
       "<Figure size 1008x288 with 2 Axes>"
      ]
     },
     "metadata": {
      "needs_background": "light"
     },
     "output_type": "display_data"
    }
   ],
   "source": [
    "# Outliers in 'Reviews' col\n",
    "plt.figure(figsize=(14,4))\n",
    "plt.subplot(1,2,1)\n",
    "sns.kdeplot(df.Reviews)\n",
    "plt.subplot(1,2,2)\n",
    "sns.boxplot(x=df['Reviews'])"
   ]
  },
  {
   "cell_type": "markdown",
   "id": "683b28bf",
   "metadata": {},
   "source": [
    "We can see large number of outliers in the column"
   ]
  },
  {
   "cell_type": "code",
   "execution_count": 25,
   "id": "1cef83b8",
   "metadata": {},
   "outputs": [],
   "source": [
    "df['Reviews_log'] = np.log(df['Reviews'])"
   ]
  },
  {
   "cell_type": "code",
   "execution_count": 26,
   "id": "166afd8d",
   "metadata": {},
   "outputs": [
    {
     "data": {
      "text/plain": [
       "<AxesSubplot:xlabel='Reviews_log'>"
      ]
     },
     "execution_count": 26,
     "metadata": {},
     "output_type": "execute_result"
    },
    {
     "data": {
      "image/png": "[encoded data removed]",
      "text/plain": [
       "<Figure size 1008x288 with 2 Axes>"
      ]
     },
     "metadata": {
      "needs_background": "light"
     },
     "output_type": "display_data"
    }
   ],
   "source": [
    "plt.figure(figsize=(14,4))\n",
    "plt.subplot(1,2,1)\n",
    "sns.kdeplot(df.Reviews_log)\n",
    "plt.subplot(1,2,2)\n",
    "sns.boxplot(x=df['Reviews_log'])"
   ]
  },
  {
   "cell_type": "markdown",
   "id": "e7e6862e",
   "metadata": {},
   "source": [
    "- We checked various Gaussian transformation techniques(log, exponential, sq root, reciprocal) and found log transformation most apt.\n",
    "- Log transformed data is much more near normal distribution as compared to original data"
   ]
  },
  {
   "cell_type": "markdown",
   "id": "ed478f7d",
   "metadata": {},
   "source": [
    "### 2.7 'Size' column: Handeling alphanumeric values"
   ]
  },
  {
   "cell_type": "code",
   "execution_count": 27,
   "id": "c9f2d46d",
   "metadata": {},
   "outputs": [],
   "source": [
    "df['Size'] = df['Size'].str.replace('M', '000000')"
   ]
  },
  {
   "cell_type": "code",
   "execution_count": 28,
   "id": "9b9e690d",
   "metadata": {},
   "outputs": [],
   "source": [
    "df['Size'] = df['Size'].str.replace('k', '000')"
   ]
  },
  {
   "cell_type": "code",
   "execution_count": 29,
   "id": "90afa2c0",
   "metadata": {},
   "outputs": [
    {
     "data": {
      "text/plain": [
       "(8196, 15)"
      ]
     },
     "execution_count": 29,
     "metadata": {},
     "output_type": "execute_result"
    }
   ],
   "source": [
    "df.shape"
   ]
  },
  {
   "cell_type": "code",
   "execution_count": 30,
   "id": "fd5b5c7d",
   "metadata": {},
   "outputs": [],
   "source": [
    "# Dropping 'Varies with device' values of 'Size' col \n",
    "df = df[~(df['Size']=='Varies with device')]"
   ]
  },
  {
   "cell_type": "code",
   "execution_count": 31,
   "id": "0b367917",
   "metadata": {},
   "outputs": [
    {
     "data": {
      "text/plain": [
       "(7027, 15)"
      ]
     },
     "execution_count": 31,
     "metadata": {},
     "output_type": "execute_result"
    }
   ],
   "source": [
    "df.shape"
   ]
  },
  {
   "cell_type": "code",
   "execution_count": 32,
   "id": "099c66a6",
   "metadata": {},
   "outputs": [],
   "source": [
    "df['Size'] = df['Size'].astype('float')"
   ]
  },
  {
   "cell_type": "code",
   "execution_count": 33,
   "id": "64d0b1ce",
   "metadata": {},
   "outputs": [
    {
     "data": {
      "text/plain": [
       "dtype('float64')"
      ]
     },
     "execution_count": 33,
     "metadata": {},
     "output_type": "execute_result"
    }
   ],
   "source": [
    "df['Size'].dtype"
   ]
  },
  {
   "cell_type": "markdown",
   "id": "a1c036b4",
   "metadata": {},
   "source": [
    "### 2.8 'Installs' column: Handeling unwanted characters"
   ]
  },
  {
   "cell_type": "code",
   "execution_count": 34,
   "id": "ee3d6196",
   "metadata": {},
   "outputs": [],
   "source": [
    "df['Installs'] = df['Installs'].str.replace('+', '')"
   ]
  },
  {
   "cell_type": "code",
   "execution_count": 35,
   "id": "970fcaae",
   "metadata": {},
   "outputs": [],
   "source": [
    "df['Installs'] = df['Installs'].str.replace(',', '')"
   ]
  },
  {
   "cell_type": "code",
   "execution_count": 36,
   "id": "2355cae5",
   "metadata": {},
   "outputs": [],
   "source": [
    "df['Installs'] = df['Installs'].astype('int')"
   ]
  },
  {
   "cell_type": "code",
   "execution_count": 37,
   "id": "9c2ac751",
   "metadata": {},
   "outputs": [
    {
     "data": {
      "text/plain": [
       "dtype('int32')"
      ]
     },
     "execution_count": 37,
     "metadata": {},
     "output_type": "execute_result"
    }
   ],
   "source": [
    "df['Installs'].dtype"
   ]
  },
  {
   "cell_type": "markdown",
   "id": "34753661",
   "metadata": {},
   "source": [
    "### 2.9 'Price' column: Handeling unwanted characters"
   ]
  },
  {
   "cell_type": "code",
   "execution_count": 38,
   "id": "998878c9",
   "metadata": {},
   "outputs": [],
   "source": [
    "df['Price'] = df['Price'].str.replace('$', '')"
   ]
  },
  {
   "cell_type": "code",
   "execution_count": 39,
   "id": "23615248",
   "metadata": {},
   "outputs": [],
   "source": [
    "df['Price'] = df['Price'].astype('float')"
   ]
  },
  {
   "cell_type": "code",
   "execution_count": 40,
   "id": "40968288",
   "metadata": {},
   "outputs": [
    {
     "data": {
      "text/plain": [
       "dtype('float64')"
      ]
     },
     "execution_count": 40,
     "metadata": {},
     "output_type": "execute_result"
    }
   ],
   "source": [
    "df['Price'].dtype"
   ]
  },
  {
   "cell_type": "markdown",
   "id": "db136ccf",
   "metadata": {},
   "source": [
    "## Step 3: Data Preparation for model building:"
   ]
  },
  {
   "cell_type": "markdown",
   "id": "911ddaca",
   "metadata": {},
   "source": [
    "### 3.1 Dropping redundant columns"
   ]
  },
  {
   "cell_type": "code",
   "execution_count": 41,
   "id": "a0568cab",
   "metadata": {},
   "outputs": [],
   "source": [
    "df.drop(['App', 'Rating', 'Last Updated', 'Current Ver', 'Android Ver', 'Reviews', 'Type'], axis=1, inplace=True)"
   ]
  },
  {
   "cell_type": "code",
   "execution_count": 42,
   "id": "3af67d6d",
   "metadata": {},
   "outputs": [
    {
     "data": {
      "text/html": [
       "<div>\n",
       "<style scoped>\n",
       "    .dataframe tbody tr th:only-of-type {\n",
       "        vertical-align: middle;\n",
       "    }\n",
       "\n",
       "    .dataframe tbody tr th {\n",
       "        vertical-align: top;\n",
       "    }\n",
       "\n",
       "    .dataframe thead th {\n",
       "        text-align: right;\n",
       "    }\n",
       "</style>\n",
       "<table border=\"1\" class=\"dataframe\">\n",
       "  <thead>\n",
       "    <tr style=\"text-align: right;\">\n",
       "      <th></th>\n",
       "      <th>Category</th>\n",
       "      <th>Size</th>\n",
       "      <th>Installs</th>\n",
       "      <th>Price</th>\n",
       "      <th>Content Rating</th>\n",
       "      <th>Genres</th>\n",
       "      <th>Rating_category</th>\n",
       "      <th>Reviews_log</th>\n",
       "    </tr>\n",
       "  </thead>\n",
       "  <tbody>\n",
       "    <tr>\n",
       "      <th>0</th>\n",
       "      <td>ART_AND_DESIGN</td>\n",
       "      <td>19000000.0</td>\n",
       "      <td>10000</td>\n",
       "      <td>0.0</td>\n",
       "      <td>Everyone</td>\n",
       "      <td>Art &amp; Design</td>\n",
       "      <td>high</td>\n",
       "      <td>5.068904</td>\n",
       "    </tr>\n",
       "    <tr>\n",
       "      <th>1</th>\n",
       "      <td>ART_AND_DESIGN</td>\n",
       "      <td>14000000.0</td>\n",
       "      <td>500000</td>\n",
       "      <td>0.0</td>\n",
       "      <td>Everyone</td>\n",
       "      <td>Art &amp; Design;Pretend Play</td>\n",
       "      <td>high</td>\n",
       "      <td>6.874198</td>\n",
       "    </tr>\n",
       "    <tr>\n",
       "      <th>2</th>\n",
       "      <td>ART_AND_DESIGN</td>\n",
       "      <td>8.7</td>\n",
       "      <td>5000000</td>\n",
       "      <td>0.0</td>\n",
       "      <td>Everyone</td>\n",
       "      <td>Art &amp; Design</td>\n",
       "      <td>high</td>\n",
       "      <td>11.379508</td>\n",
       "    </tr>\n",
       "    <tr>\n",
       "      <th>3</th>\n",
       "      <td>ART_AND_DESIGN</td>\n",
       "      <td>25000000.0</td>\n",
       "      <td>50000000</td>\n",
       "      <td>0.0</td>\n",
       "      <td>Teen</td>\n",
       "      <td>Art &amp; Design</td>\n",
       "      <td>high</td>\n",
       "      <td>12.281384</td>\n",
       "    </tr>\n",
       "    <tr>\n",
       "      <th>4</th>\n",
       "      <td>ART_AND_DESIGN</td>\n",
       "      <td>2.8</td>\n",
       "      <td>100000</td>\n",
       "      <td>0.0</td>\n",
       "      <td>Everyone</td>\n",
       "      <td>Art &amp; Design;Creativity</td>\n",
       "      <td>high</td>\n",
       "      <td>6.874198</td>\n",
       "    </tr>\n",
       "    <tr>\n",
       "      <th>...</th>\n",
       "      <td>...</td>\n",
       "      <td>...</td>\n",
       "      <td>...</td>\n",
       "      <td>...</td>\n",
       "      <td>...</td>\n",
       "      <td>...</td>\n",
       "      <td>...</td>\n",
       "      <td>...</td>\n",
       "    </tr>\n",
       "    <tr>\n",
       "      <th>10833</th>\n",
       "      <td>BOOKS_AND_REFERENCE</td>\n",
       "      <td>619000.0</td>\n",
       "      <td>1000</td>\n",
       "      <td>0.0</td>\n",
       "      <td>Everyone</td>\n",
       "      <td>Books &amp; Reference</td>\n",
       "      <td>high</td>\n",
       "      <td>3.784190</td>\n",
       "    </tr>\n",
       "    <tr>\n",
       "      <th>10834</th>\n",
       "      <td>FAMILY</td>\n",
       "      <td>2.6</td>\n",
       "      <td>500</td>\n",
       "      <td>0.0</td>\n",
       "      <td>Everyone</td>\n",
       "      <td>Education</td>\n",
       "      <td>high</td>\n",
       "      <td>1.945910</td>\n",
       "    </tr>\n",
       "    <tr>\n",
       "      <th>10836</th>\n",
       "      <td>FAMILY</td>\n",
       "      <td>53000000.0</td>\n",
       "      <td>5000</td>\n",
       "      <td>0.0</td>\n",
       "      <td>Everyone</td>\n",
       "      <td>Education</td>\n",
       "      <td>high</td>\n",
       "      <td>3.637586</td>\n",
       "    </tr>\n",
       "    <tr>\n",
       "      <th>10837</th>\n",
       "      <td>FAMILY</td>\n",
       "      <td>3.6</td>\n",
       "      <td>100</td>\n",
       "      <td>0.0</td>\n",
       "      <td>Everyone</td>\n",
       "      <td>Education</td>\n",
       "      <td>high</td>\n",
       "      <td>1.386294</td>\n",
       "    </tr>\n",
       "    <tr>\n",
       "      <th>10840</th>\n",
       "      <td>LIFESTYLE</td>\n",
       "      <td>19000000.0</td>\n",
       "      <td>10000000</td>\n",
       "      <td>0.0</td>\n",
       "      <td>Everyone</td>\n",
       "      <td>Lifestyle</td>\n",
       "      <td>high</td>\n",
       "      <td>12.894978</td>\n",
       "    </tr>\n",
       "  </tbody>\n",
       "</table>\n",
       "<p>7027 rows × 8 columns</p>\n",
       "</div>"
      ],
      "text/plain": [
       "                  Category        Size  Installs  Price Content Rating  \\\n",
       "0           ART_AND_DESIGN  19000000.0     10000    0.0       Everyone   \n",
       "1           ART_AND_DESIGN  14000000.0    500000    0.0       Everyone   \n",
       "2           ART_AND_DESIGN         8.7   5000000    0.0       Everyone   \n",
       "3           ART_AND_DESIGN  25000000.0  50000000    0.0           Teen   \n",
       "4           ART_AND_DESIGN         2.8    100000    0.0       Everyone   \n",
       "...                    ...         ...       ...    ...            ...   \n",
       "10833  BOOKS_AND_REFERENCE    619000.0      1000    0.0       Everyone   \n",
       "10834               FAMILY         2.6       500    0.0       Everyone   \n",
       "10836               FAMILY  53000000.0      5000    0.0       Everyone   \n",
       "10837               FAMILY         3.6       100    0.0       Everyone   \n",
       "10840            LIFESTYLE  19000000.0  10000000    0.0       Everyone   \n",
       "\n",
       "                          Genres Rating_category  Reviews_log  \n",
       "0                   Art & Design            high     5.068904  \n",
       "1      Art & Design;Pretend Play            high     6.874198  \n",
       "2                   Art & Design            high    11.379508  \n",
       "3                   Art & Design            high    12.281384  \n",
       "4        Art & Design;Creativity            high     6.874198  \n",
       "...                          ...             ...          ...  \n",
       "10833          Books & Reference            high     3.784190  \n",
       "10834                  Education            high     1.945910  \n",
       "10836                  Education            high     3.637586  \n",
       "10837                  Education            high     1.386294  \n",
       "10840                  Lifestyle            high    12.894978  \n",
       "\n",
       "[7027 rows x 8 columns]"
      ]
     },
     "execution_count": 42,
     "metadata": {},
     "output_type": "execute_result"
    }
   ],
   "source": [
    "df"
   ]
  },
  {
   "cell_type": "markdown",
   "id": "7abe8770",
   "metadata": {},
   "source": [
    "### 3.2 'Rating' column:  0 and 1"
   ]
  },
  {
   "cell_type": "code",
   "execution_count": 43,
   "id": "6247f204",
   "metadata": {},
   "outputs": [],
   "source": [
    "# Target Column\n",
    "df['Rating_category'] = df['Rating_category'].str.replace('high', '1')\n",
    "df['Rating_category'] = df['Rating_category'].str.replace('low', '0')"
   ]
  },
  {
   "cell_type": "code",
   "execution_count": 44,
   "id": "62955b88",
   "metadata": {},
   "outputs": [
    {
     "data": {
      "text/html": [
       "<div>\n",
       "<style scoped>\n",
       "    .dataframe tbody tr th:only-of-type {\n",
       "        vertical-align: middle;\n",
       "    }\n",
       "\n",
       "    .dataframe tbody tr th {\n",
       "        vertical-align: top;\n",
       "    }\n",
       "\n",
       "    .dataframe thead th {\n",
       "        text-align: right;\n",
       "    }\n",
       "</style>\n",
       "<table border=\"1\" class=\"dataframe\">\n",
       "  <thead>\n",
       "    <tr style=\"text-align: right;\">\n",
       "      <th></th>\n",
       "      <th>Category</th>\n",
       "      <th>Size</th>\n",
       "      <th>Installs</th>\n",
       "      <th>Price</th>\n",
       "      <th>Content Rating</th>\n",
       "      <th>Genres</th>\n",
       "      <th>Rating_category</th>\n",
       "      <th>Reviews_log</th>\n",
       "    </tr>\n",
       "  </thead>\n",
       "  <tbody>\n",
       "    <tr>\n",
       "      <th>0</th>\n",
       "      <td>ART_AND_DESIGN</td>\n",
       "      <td>19000000.0</td>\n",
       "      <td>10000</td>\n",
       "      <td>0.0</td>\n",
       "      <td>Everyone</td>\n",
       "      <td>Art &amp; Design</td>\n",
       "      <td>1</td>\n",
       "      <td>5.068904</td>\n",
       "    </tr>\n",
       "    <tr>\n",
       "      <th>1</th>\n",
       "      <td>ART_AND_DESIGN</td>\n",
       "      <td>14000000.0</td>\n",
       "      <td>500000</td>\n",
       "      <td>0.0</td>\n",
       "      <td>Everyone</td>\n",
       "      <td>Art &amp; Design;Pretend Play</td>\n",
       "      <td>1</td>\n",
       "      <td>6.874198</td>\n",
       "    </tr>\n",
       "    <tr>\n",
       "      <th>2</th>\n",
       "      <td>ART_AND_DESIGN</td>\n",
       "      <td>8.7</td>\n",
       "      <td>5000000</td>\n",
       "      <td>0.0</td>\n",
       "      <td>Everyone</td>\n",
       "      <td>Art &amp; Design</td>\n",
       "      <td>1</td>\n",
       "      <td>11.379508</td>\n",
       "    </tr>\n",
       "    <tr>\n",
       "      <th>3</th>\n",
       "      <td>ART_AND_DESIGN</td>\n",
       "      <td>25000000.0</td>\n",
       "      <td>50000000</td>\n",
       "      <td>0.0</td>\n",
       "      <td>Teen</td>\n",
       "      <td>Art &amp; Design</td>\n",
       "      <td>1</td>\n",
       "      <td>12.281384</td>\n",
       "    </tr>\n",
       "    <tr>\n",
       "      <th>4</th>\n",
       "      <td>ART_AND_DESIGN</td>\n",
       "      <td>2.8</td>\n",
       "      <td>100000</td>\n",
       "      <td>0.0</td>\n",
       "      <td>Everyone</td>\n",
       "      <td>Art &amp; Design;Creativity</td>\n",
       "      <td>1</td>\n",
       "      <td>6.874198</td>\n",
       "    </tr>\n",
       "    <tr>\n",
       "      <th>...</th>\n",
       "      <td>...</td>\n",
       "      <td>...</td>\n",
       "      <td>...</td>\n",
       "      <td>...</td>\n",
       "      <td>...</td>\n",
       "      <td>...</td>\n",
       "      <td>...</td>\n",
       "      <td>...</td>\n",
       "    </tr>\n",
       "    <tr>\n",
       "      <th>10833</th>\n",
       "      <td>BOOKS_AND_REFERENCE</td>\n",
       "      <td>619000.0</td>\n",
       "      <td>1000</td>\n",
       "      <td>0.0</td>\n",
       "      <td>Everyone</td>\n",
       "      <td>Books &amp; Reference</td>\n",
       "      <td>1</td>\n",
       "      <td>3.784190</td>\n",
       "    </tr>\n",
       "    <tr>\n",
       "      <th>10834</th>\n",
       "      <td>FAMILY</td>\n",
       "      <td>2.6</td>\n",
       "      <td>500</td>\n",
       "      <td>0.0</td>\n",
       "      <td>Everyone</td>\n",
       "      <td>Education</td>\n",
       "      <td>1</td>\n",
       "      <td>1.945910</td>\n",
       "    </tr>\n",
       "    <tr>\n",
       "      <th>10836</th>\n",
       "      <td>FAMILY</td>\n",
       "      <td>53000000.0</td>\n",
       "      <td>5000</td>\n",
       "      <td>0.0</td>\n",
       "      <td>Everyone</td>\n",
       "      <td>Education</td>\n",
       "      <td>1</td>\n",
       "      <td>3.637586</td>\n",
       "    </tr>\n",
       "    <tr>\n",
       "      <th>10837</th>\n",
       "      <td>FAMILY</td>\n",
       "      <td>3.6</td>\n",
       "      <td>100</td>\n",
       "      <td>0.0</td>\n",
       "      <td>Everyone</td>\n",
       "      <td>Education</td>\n",
       "      <td>1</td>\n",
       "      <td>1.386294</td>\n",
       "    </tr>\n",
       "    <tr>\n",
       "      <th>10840</th>\n",
       "      <td>LIFESTYLE</td>\n",
       "      <td>19000000.0</td>\n",
       "      <td>10000000</td>\n",
       "      <td>0.0</td>\n",
       "      <td>Everyone</td>\n",
       "      <td>Lifestyle</td>\n",
       "      <td>1</td>\n",
       "      <td>12.894978</td>\n",
       "    </tr>\n",
       "  </tbody>\n",
       "</table>\n",
       "<p>7027 rows × 8 columns</p>\n",
       "</div>"
      ],
      "text/plain": [
       "                  Category        Size  Installs  Price Content Rating  \\\n",
       "0           ART_AND_DESIGN  19000000.0     10000    0.0       Everyone   \n",
       "1           ART_AND_DESIGN  14000000.0    500000    0.0       Everyone   \n",
       "2           ART_AND_DESIGN         8.7   5000000    0.0       Everyone   \n",
       "3           ART_AND_DESIGN  25000000.0  50000000    0.0           Teen   \n",
       "4           ART_AND_DESIGN         2.8    100000    0.0       Everyone   \n",
       "...                    ...         ...       ...    ...            ...   \n",
       "10833  BOOKS_AND_REFERENCE    619000.0      1000    0.0       Everyone   \n",
       "10834               FAMILY         2.6       500    0.0       Everyone   \n",
       "10836               FAMILY  53000000.0      5000    0.0       Everyone   \n",
       "10837               FAMILY         3.6       100    0.0       Everyone   \n",
       "10840            LIFESTYLE  19000000.0  10000000    0.0       Everyone   \n",
       "\n",
       "                          Genres Rating_category  Reviews_log  \n",
       "0                   Art & Design               1     5.068904  \n",
       "1      Art & Design;Pretend Play               1     6.874198  \n",
       "2                   Art & Design               1    11.379508  \n",
       "3                   Art & Design               1    12.281384  \n",
       "4        Art & Design;Creativity               1     6.874198  \n",
       "...                          ...             ...          ...  \n",
       "10833          Books & Reference               1     3.784190  \n",
       "10834                  Education               1     1.945910  \n",
       "10836                  Education               1     3.637586  \n",
       "10837                  Education               1     1.386294  \n",
       "10840                  Lifestyle               1    12.894978  \n",
       "\n",
       "[7027 rows x 8 columns]"
      ]
     },
     "execution_count": 44,
     "metadata": {},
     "output_type": "execute_result"
    }
   ],
   "source": [
    "df"
   ]
  },
  {
   "cell_type": "markdown",
   "id": "b855f319",
   "metadata": {},
   "source": [
    "### 3.3 Encoding categorical columns"
   ]
  },
  {
   "cell_type": "code",
   "execution_count": 45,
   "id": "bc4ed02e",
   "metadata": {},
   "outputs": [],
   "source": [
    "# We will be label encoding all categorical variables\n",
    "le = preprocessing.LabelEncoder()\n",
    "df_encoded = df.copy()"
   ]
  },
  {
   "cell_type": "code",
   "execution_count": 46,
   "id": "f5420451",
   "metadata": {},
   "outputs": [
    {
     "data": {
      "text/plain": [
       "{'ART_AND_DESIGN': 0,\n",
       " 'AUTO_AND_VEHICLES': 1,\n",
       " 'BEAUTY': 2,\n",
       " 'BOOKS_AND_REFERENCE': 3,\n",
       " 'BUSINESS': 4,\n",
       " 'COMICS': 5,\n",
       " 'COMMUNICATION': 6,\n",
       " 'DATING': 7,\n",
       " 'EDUCATION': 8,\n",
       " 'ENTERTAINMENT': 9,\n",
       " 'EVENTS': 10,\n",
       " 'FAMILY': 11,\n",
       " 'FINANCE': 12,\n",
       " 'FOOD_AND_DRINK': 13,\n",
       " 'GAME': 14,\n",
       " 'HEALTH_AND_FITNESS': 15,\n",
       " 'HOUSE_AND_HOME': 16,\n",
       " 'LIBRARIES_AND_DEMO': 17,\n",
       " 'LIFESTYLE': 18,\n",
       " 'MAPS_AND_NAVIGATION': 19,\n",
       " 'MEDICAL': 20,\n",
       " 'NEWS_AND_MAGAZINES': 21,\n",
       " 'PARENTING': 22,\n",
       " 'PERSONALIZATION': 23,\n",
       " 'PHOTOGRAPHY': 24,\n",
       " 'PRODUCTIVITY': 25,\n",
       " 'SHOPPING': 26,\n",
       " 'SOCIAL': 27,\n",
       " 'SPORTS': 28,\n",
       " 'TOOLS': 29,\n",
       " 'TRAVEL_AND_LOCAL': 30,\n",
       " 'VIDEO_PLAYERS': 31,\n",
       " 'WEATHER': 32}"
      ]
     },
     "execution_count": 46,
     "metadata": {},
     "output_type": "execute_result"
    }
   ],
   "source": [
    "# 'Category' column\n",
    "df_encoded['Category'] = le.fit_transform(df_encoded['Category'])\n",
    "le_Category_mapping = dict(zip(le.classes_, le.transform(le.classes_))) # Label encoder mapping of 'Category' column\n",
    "le_Category_mapping"
   ]
  },
  {
   "cell_type": "code",
   "execution_count": 47,
   "id": "facc2f5f",
   "metadata": {},
   "outputs": [
    {
     "data": {
      "text/plain": [
       "{'Adults only 18+': 0,\n",
       " 'Everyone': 1,\n",
       " 'Everyone 10+': 2,\n",
       " 'Mature 17+': 3,\n",
       " 'Teen': 4,\n",
       " 'Unrated': 5}"
      ]
     },
     "execution_count": 47,
     "metadata": {},
     "output_type": "execute_result"
    }
   ],
   "source": [
    "# 'Content Rating'\n",
    "df_encoded['Content Rating'] = le.fit_transform(df_encoded['Content Rating'])\n",
    "le_ContentRating_mapping = dict(zip(le.classes_, le.transform(le.classes_))) # Label encoder mapping of 'Content Rating' column\n",
    "le_ContentRating_mapping"
   ]
  },
  {
   "cell_type": "code",
   "execution_count": 48,
   "id": "f69def19",
   "metadata": {},
   "outputs": [
    {
     "data": {
      "text/plain": [
       "{'Action': 0,\n",
       " 'Action;Action & Adventure': 1,\n",
       " 'Adventure': 2,\n",
       " 'Adventure;Action & Adventure': 3,\n",
       " 'Adventure;Brain Games': 4,\n",
       " 'Adventure;Education': 5,\n",
       " 'Arcade': 6,\n",
       " 'Arcade;Action & Adventure': 7,\n",
       " 'Arcade;Pretend Play': 8,\n",
       " 'Art & Design': 9,\n",
       " 'Art & Design;Creativity': 10,\n",
       " 'Art & Design;Pretend Play': 11,\n",
       " 'Auto & Vehicles': 12,\n",
       " 'Beauty': 13,\n",
       " 'Board': 14,\n",
       " 'Board;Action & Adventure': 15,\n",
       " 'Board;Brain Games': 16,\n",
       " 'Board;Pretend Play': 17,\n",
       " 'Books & Reference': 18,\n",
       " 'Books & Reference;Education': 19,\n",
       " 'Business': 20,\n",
       " 'Card': 21,\n",
       " 'Card;Action & Adventure': 22,\n",
       " 'Casino': 23,\n",
       " 'Casual': 24,\n",
       " 'Casual;Action & Adventure': 25,\n",
       " 'Casual;Brain Games': 26,\n",
       " 'Casual;Creativity': 27,\n",
       " 'Casual;Education': 28,\n",
       " 'Casual;Music & Video': 29,\n",
       " 'Casual;Pretend Play': 30,\n",
       " 'Comics': 31,\n",
       " 'Comics;Creativity': 32,\n",
       " 'Communication': 33,\n",
       " 'Dating': 34,\n",
       " 'Education': 35,\n",
       " 'Education;Action & Adventure': 36,\n",
       " 'Education;Brain Games': 37,\n",
       " 'Education;Creativity': 38,\n",
       " 'Education;Education': 39,\n",
       " 'Education;Music & Video': 40,\n",
       " 'Education;Pretend Play': 41,\n",
       " 'Educational': 42,\n",
       " 'Educational;Action & Adventure': 43,\n",
       " 'Educational;Brain Games': 44,\n",
       " 'Educational;Creativity': 45,\n",
       " 'Educational;Education': 46,\n",
       " 'Educational;Pretend Play': 47,\n",
       " 'Entertainment': 48,\n",
       " 'Entertainment;Action & Adventure': 49,\n",
       " 'Entertainment;Brain Games': 50,\n",
       " 'Entertainment;Creativity': 51,\n",
       " 'Entertainment;Education': 52,\n",
       " 'Entertainment;Music & Video': 53,\n",
       " 'Entertainment;Pretend Play': 54,\n",
       " 'Events': 55,\n",
       " 'Finance': 56,\n",
       " 'Food & Drink': 57,\n",
       " 'Health & Fitness': 58,\n",
       " 'Health & Fitness;Action & Adventure': 59,\n",
       " 'Health & Fitness;Education': 60,\n",
       " 'House & Home': 61,\n",
       " 'Libraries & Demo': 62,\n",
       " 'Lifestyle': 63,\n",
       " 'Lifestyle;Pretend Play': 64,\n",
       " 'Maps & Navigation': 65,\n",
       " 'Medical': 66,\n",
       " 'Music': 67,\n",
       " 'Music & Audio;Music & Video': 68,\n",
       " 'Music;Music & Video': 69,\n",
       " 'News & Magazines': 70,\n",
       " 'Parenting': 71,\n",
       " 'Parenting;Brain Games': 72,\n",
       " 'Parenting;Education': 73,\n",
       " 'Parenting;Music & Video': 74,\n",
       " 'Personalization': 75,\n",
       " 'Photography': 76,\n",
       " 'Productivity': 77,\n",
       " 'Puzzle': 78,\n",
       " 'Puzzle;Action & Adventure': 79,\n",
       " 'Puzzle;Brain Games': 80,\n",
       " 'Puzzle;Creativity': 81,\n",
       " 'Puzzle;Education': 82,\n",
       " 'Racing': 83,\n",
       " 'Racing;Action & Adventure': 84,\n",
       " 'Racing;Pretend Play': 85,\n",
       " 'Role Playing': 86,\n",
       " 'Role Playing;Action & Adventure': 87,\n",
       " 'Role Playing;Brain Games': 88,\n",
       " 'Role Playing;Pretend Play': 89,\n",
       " 'Shopping': 90,\n",
       " 'Simulation': 91,\n",
       " 'Simulation;Action & Adventure': 92,\n",
       " 'Simulation;Education': 93,\n",
       " 'Simulation;Pretend Play': 94,\n",
       " 'Social': 95,\n",
       " 'Sports': 96,\n",
       " 'Sports;Action & Adventure': 97,\n",
       " 'Strategy': 98,\n",
       " 'Strategy;Action & Adventure': 99,\n",
       " 'Strategy;Creativity': 100,\n",
       " 'Strategy;Education': 101,\n",
       " 'Tools': 102,\n",
       " 'Travel & Local': 103,\n",
       " 'Travel & Local;Action & Adventure': 104,\n",
       " 'Trivia': 105,\n",
       " 'Video Players & Editors': 106,\n",
       " 'Video Players & Editors;Creativity': 107,\n",
       " 'Video Players & Editors;Music & Video': 108,\n",
       " 'Weather': 109,\n",
       " 'Word': 110}"
      ]
     },
     "execution_count": 48,
     "metadata": {},
     "output_type": "execute_result"
    }
   ],
   "source": [
    "# 'Genres'\n",
    "df_encoded['Genres'] = le.fit_transform(df_encoded['Genres'])\n",
    "le_Genres_mapping = dict(zip(le.classes_, le.transform(le.classes_))) # Label encoder mapping of 'Genres' column\n",
    "le_Genres_mapping"
   ]
  },
  {
   "cell_type": "code",
   "execution_count": 49,
   "id": "82008a9a",
   "metadata": {},
   "outputs": [
    {
     "data": {
      "text/html": [
       "<div>\n",
       "<style scoped>\n",
       "    .dataframe tbody tr th:only-of-type {\n",
       "        vertical-align: middle;\n",
       "    }\n",
       "\n",
       "    .dataframe tbody tr th {\n",
       "        vertical-align: top;\n",
       "    }\n",
       "\n",
       "    .dataframe thead th {\n",
       "        text-align: right;\n",
       "    }\n",
       "</style>\n",
       "<table border=\"1\" class=\"dataframe\">\n",
       "  <thead>\n",
       "    <tr style=\"text-align: right;\">\n",
       "      <th></th>\n",
       "      <th>Category</th>\n",
       "      <th>Size</th>\n",
       "      <th>Installs</th>\n",
       "      <th>Price</th>\n",
       "      <th>Content Rating</th>\n",
       "      <th>Genres</th>\n",
       "      <th>Rating_category</th>\n",
       "      <th>Reviews_log</th>\n",
       "    </tr>\n",
       "  </thead>\n",
       "  <tbody>\n",
       "    <tr>\n",
       "      <th>0</th>\n",
       "      <td>0</td>\n",
       "      <td>19000000.0</td>\n",
       "      <td>10000</td>\n",
       "      <td>0.0</td>\n",
       "      <td>1</td>\n",
       "      <td>9</td>\n",
       "      <td>1</td>\n",
       "      <td>5.068904</td>\n",
       "    </tr>\n",
       "    <tr>\n",
       "      <th>1</th>\n",
       "      <td>0</td>\n",
       "      <td>14000000.0</td>\n",
       "      <td>500000</td>\n",
       "      <td>0.0</td>\n",
       "      <td>1</td>\n",
       "      <td>11</td>\n",
       "      <td>1</td>\n",
       "      <td>6.874198</td>\n",
       "    </tr>\n",
       "    <tr>\n",
       "      <th>2</th>\n",
       "      <td>0</td>\n",
       "      <td>8.7</td>\n",
       "      <td>5000000</td>\n",
       "      <td>0.0</td>\n",
       "      <td>1</td>\n",
       "      <td>9</td>\n",
       "      <td>1</td>\n",
       "      <td>11.379508</td>\n",
       "    </tr>\n",
       "    <tr>\n",
       "      <th>3</th>\n",
       "      <td>0</td>\n",
       "      <td>25000000.0</td>\n",
       "      <td>50000000</td>\n",
       "      <td>0.0</td>\n",
       "      <td>4</td>\n",
       "      <td>9</td>\n",
       "      <td>1</td>\n",
       "      <td>12.281384</td>\n",
       "    </tr>\n",
       "    <tr>\n",
       "      <th>4</th>\n",
       "      <td>0</td>\n",
       "      <td>2.8</td>\n",
       "      <td>100000</td>\n",
       "      <td>0.0</td>\n",
       "      <td>1</td>\n",
       "      <td>10</td>\n",
       "      <td>1</td>\n",
       "      <td>6.874198</td>\n",
       "    </tr>\n",
       "    <tr>\n",
       "      <th>...</th>\n",
       "      <td>...</td>\n",
       "      <td>...</td>\n",
       "      <td>...</td>\n",
       "      <td>...</td>\n",
       "      <td>...</td>\n",
       "      <td>...</td>\n",
       "      <td>...</td>\n",
       "      <td>...</td>\n",
       "    </tr>\n",
       "    <tr>\n",
       "      <th>10833</th>\n",
       "      <td>3</td>\n",
       "      <td>619000.0</td>\n",
       "      <td>1000</td>\n",
       "      <td>0.0</td>\n",
       "      <td>1</td>\n",
       "      <td>18</td>\n",
       "      <td>1</td>\n",
       "      <td>3.784190</td>\n",
       "    </tr>\n",
       "    <tr>\n",
       "      <th>10834</th>\n",
       "      <td>11</td>\n",
       "      <td>2.6</td>\n",
       "      <td>500</td>\n",
       "      <td>0.0</td>\n",
       "      <td>1</td>\n",
       "      <td>35</td>\n",
       "      <td>1</td>\n",
       "      <td>1.945910</td>\n",
       "    </tr>\n",
       "    <tr>\n",
       "      <th>10836</th>\n",
       "      <td>11</td>\n",
       "      <td>53000000.0</td>\n",
       "      <td>5000</td>\n",
       "      <td>0.0</td>\n",
       "      <td>1</td>\n",
       "      <td>35</td>\n",
       "      <td>1</td>\n",
       "      <td>3.637586</td>\n",
       "    </tr>\n",
       "    <tr>\n",
       "      <th>10837</th>\n",
       "      <td>11</td>\n",
       "      <td>3.6</td>\n",
       "      <td>100</td>\n",
       "      <td>0.0</td>\n",
       "      <td>1</td>\n",
       "      <td>35</td>\n",
       "      <td>1</td>\n",
       "      <td>1.386294</td>\n",
       "    </tr>\n",
       "    <tr>\n",
       "      <th>10840</th>\n",
       "      <td>18</td>\n",
       "      <td>19000000.0</td>\n",
       "      <td>10000000</td>\n",
       "      <td>0.0</td>\n",
       "      <td>1</td>\n",
       "      <td>63</td>\n",
       "      <td>1</td>\n",
       "      <td>12.894978</td>\n",
       "    </tr>\n",
       "  </tbody>\n",
       "</table>\n",
       "<p>7027 rows × 8 columns</p>\n",
       "</div>"
      ],
      "text/plain": [
       "       Category        Size  Installs  Price  Content Rating  Genres  \\\n",
       "0             0  19000000.0     10000    0.0               1       9   \n",
       "1             0  14000000.0    500000    0.0               1      11   \n",
       "2             0         8.7   5000000    0.0               1       9   \n",
       "3             0  25000000.0  50000000    0.0               4       9   \n",
       "4             0         2.8    100000    0.0               1      10   \n",
       "...         ...         ...       ...    ...             ...     ...   \n",
       "10833         3    619000.0      1000    0.0               1      18   \n",
       "10834        11         2.6       500    0.0               1      35   \n",
       "10836        11  53000000.0      5000    0.0               1      35   \n",
       "10837        11         3.6       100    0.0               1      35   \n",
       "10840        18  19000000.0  10000000    0.0               1      63   \n",
       "\n",
       "      Rating_category  Reviews_log  \n",
       "0                   1     5.068904  \n",
       "1                   1     6.874198  \n",
       "2                   1    11.379508  \n",
       "3                   1    12.281384  \n",
       "4                   1     6.874198  \n",
       "...               ...          ...  \n",
       "10833               1     3.784190  \n",
       "10834               1     1.945910  \n",
       "10836               1     3.637586  \n",
       "10837               1     1.386294  \n",
       "10840               1    12.894978  \n",
       "\n",
       "[7027 rows x 8 columns]"
      ]
     },
     "execution_count": 49,
     "metadata": {},
     "output_type": "execute_result"
    }
   ],
   "source": [
    "df_encoded"
   ]
  },
  {
   "cell_type": "code",
   "execution_count": 50,
   "id": "c805d65c",
   "metadata": {},
   "outputs": [
    {
     "name": "stdout",
     "output_type": "stream",
     "text": [
      "<class 'pandas.core.frame.DataFrame'>\n",
      "Int64Index: 7027 entries, 0 to 10840\n",
      "Data columns (total 8 columns):\n",
      " #   Column           Non-Null Count  Dtype  \n",
      "---  ------           --------------  -----  \n",
      " 0   Category         7027 non-null   int32  \n",
      " 1   Size             7027 non-null   float64\n",
      " 2   Installs         7027 non-null   int32  \n",
      " 3   Price            7027 non-null   float64\n",
      " 4   Content Rating   7027 non-null   int32  \n",
      " 5   Genres           7027 non-null   int32  \n",
      " 6   Rating_category  7027 non-null   object \n",
      " 7   Reviews_log      7027 non-null   float64\n",
      "dtypes: float64(3), int32(4), object(1)\n",
      "memory usage: 384.3+ KB\n"
     ]
    }
   ],
   "source": [
    "df_encoded.info()"
   ]
  },
  {
   "cell_type": "markdown",
   "id": "52108ea8",
   "metadata": {},
   "source": [
    "### 3.4 Separating target and predictor variables"
   ]
  },
  {
   "cell_type": "code",
   "execution_count": 51,
   "id": "b7163375",
   "metadata": {},
   "outputs": [],
   "source": [
    "X = df_encoded.drop('Rating_category', axis=1)"
   ]
  },
  {
   "cell_type": "code",
   "execution_count": 52,
   "id": "9dca04c9",
   "metadata": {},
   "outputs": [],
   "source": [
    "y = df_encoded.pop('Rating_category')"
   ]
  },
  {
   "cell_type": "code",
   "execution_count": 53,
   "id": "98270911",
   "metadata": {},
   "outputs": [
    {
     "data": {
      "text/plain": [
       "(7027,)"
      ]
     },
     "execution_count": 53,
     "metadata": {},
     "output_type": "execute_result"
    }
   ],
   "source": [
    "y.shape"
   ]
  },
  {
   "cell_type": "code",
   "execution_count": 54,
   "id": "a80db3e0",
   "metadata": {},
   "outputs": [
    {
     "data": {
      "text/plain": [
       "(7027, 7)"
      ]
     },
     "execution_count": 54,
     "metadata": {},
     "output_type": "execute_result"
    }
   ],
   "source": [
    "X.shape"
   ]
  },
  {
   "cell_type": "markdown",
   "id": "ea64322c",
   "metadata": {},
   "source": [
    "### 3.5 Train - Test split"
   ]
  },
  {
   "cell_type": "code",
   "execution_count": 55,
   "id": "ee0810cd",
   "metadata": {},
   "outputs": [
    {
     "data": {
      "text/plain": [
       "<AxesSubplot:xlabel='Rating_category', ylabel='count'>"
      ]
     },
     "execution_count": 55,
     "metadata": {},
     "output_type": "execute_result"
    },
    {
     "data": {
      "image/png": "[encoded data removed]",
      "text/plain": [
       "<Figure size 432x288 with 1 Axes>"
      ]
     },
     "metadata": {
      "needs_background": "light"
     },
     "output_type": "display_data"
    }
   ],
   "source": [
    "sns.countplot(x='Rating_category', data=df)"
   ]
  },
  {
   "cell_type": "code",
   "execution_count": 56,
   "id": "9769aa77",
   "metadata": {},
   "outputs": [],
   "source": [
    "# Due to imbalance in classes we'll use stratified sampling\n",
    "X_train, X_test, y_train, y_test = train_test_split(X, y, test_size=0.25, random_state=44, stratify=y) "
   ]
  },
  {
   "cell_type": "markdown",
   "id": "2fa072f2",
   "metadata": {},
   "source": [
    "We can see from below figures that y_train and y_test are maintaining the same ration of classes as in original y :"
   ]
  },
  {
   "cell_type": "code",
   "execution_count": 57,
   "id": "8b0cdc40",
   "metadata": {},
   "outputs": [
    {
     "data": {
      "text/plain": [
       "<AxesSubplot:xlabel='Rating_category', ylabel='count'>"
      ]
     },
     "execution_count": 57,
     "metadata": {},
     "output_type": "execute_result"
    },
    {
     "data": {
      "image/png": "[encoded data removed]",
      "text/plain": [
       "<Figure size 432x288 with 1 Axes>"
      ]
     },
     "metadata": {
      "needs_background": "light"
     },
     "output_type": "display_data"
    }
   ],
   "source": [
    "sns.countplot(x=y_train, data=y_train)"
   ]
  },
  {
   "cell_type": "code",
   "execution_count": 58,
   "id": "4f8ec7d7",
   "metadata": {},
   "outputs": [
    {
     "data": {
      "text/plain": [
       "<AxesSubplot:xlabel='Rating_category', ylabel='count'>"
      ]
     },
     "execution_count": 58,
     "metadata": {},
     "output_type": "execute_result"
    },
    {
     "data": {
      "image/png": "[encoded data removed]",
      "text/plain": [
       "<Figure size 432x288 with 1 Axes>"
      ]
     },
     "metadata": {
      "needs_background": "light"
     },
     "output_type": "display_data"
    }
   ],
   "source": [
    "sns.countplot(x=y_test, data=y_test)"
   ]
  },
  {
   "cell_type": "markdown",
   "id": "80285d76",
   "metadata": {},
   "source": [
    "### 3.6 Data Standardization"
   ]
  },
  {
   "cell_type": "code",
   "execution_count": 59,
   "id": "f8556cbd",
   "metadata": {},
   "outputs": [],
   "source": [
    "X_train_z = X_train.apply(zscore)\n",
    "X_test_z = X_test.apply(zscore)"
   ]
  },
  {
   "cell_type": "code",
   "execution_count": 60,
   "id": "059f377f",
   "metadata": {},
   "outputs": [
    {
     "data": {
      "text/html": [
       "<div>\n",
       "<style scoped>\n",
       "    .dataframe tbody tr th:only-of-type {\n",
       "        vertical-align: middle;\n",
       "    }\n",
       "\n",
       "    .dataframe tbody tr th {\n",
       "        vertical-align: top;\n",
       "    }\n",
       "\n",
       "    .dataframe thead th {\n",
       "        text-align: right;\n",
       "    }\n",
       "</style>\n",
       "<table border=\"1\" class=\"dataframe\">\n",
       "  <thead>\n",
       "    <tr style=\"text-align: right;\">\n",
       "      <th></th>\n",
       "      <th>Category</th>\n",
       "      <th>Size</th>\n",
       "      <th>Installs</th>\n",
       "      <th>Price</th>\n",
       "      <th>Content Rating</th>\n",
       "      <th>Genres</th>\n",
       "      <th>Reviews_log</th>\n",
       "    </tr>\n",
       "  </thead>\n",
       "  <tbody>\n",
       "    <tr>\n",
       "      <th>4362</th>\n",
       "      <td>0.152511</td>\n",
       "      <td>0.266086</td>\n",
       "      <td>-0.211341</td>\n",
       "      <td>20.456097</td>\n",
       "      <td>-0.454972</td>\n",
       "      <td>0.093211</td>\n",
       "      <td>-0.216770</td>\n",
       "    </tr>\n",
       "    <tr>\n",
       "      <th>10220</th>\n",
       "      <td>1.250009</td>\n",
       "      <td>-0.814973</td>\n",
       "      <td>-0.206645</td>\n",
       "      <td>-0.066875</td>\n",
       "      <td>2.523539</td>\n",
       "      <td>1.109448</td>\n",
       "      <td>0.508810</td>\n",
       "    </tr>\n",
       "    <tr>\n",
       "      <th>2271</th>\n",
       "      <td>0.396399</td>\n",
       "      <td>-0.814973</td>\n",
       "      <td>-0.211837</td>\n",
       "      <td>0.086538</td>\n",
       "      <td>-0.454972</td>\n",
       "      <td>0.188483</td>\n",
       "      <td>-1.862631</td>\n",
       "    </tr>\n",
       "    <tr>\n",
       "      <th>2837</th>\n",
       "      <td>0.884176</td>\n",
       "      <td>-0.108127</td>\n",
       "      <td>0.309921</td>\n",
       "      <td>-0.066875</td>\n",
       "      <td>-0.454972</td>\n",
       "      <td>0.506057</td>\n",
       "      <td>1.002569</td>\n",
       "    </tr>\n",
       "    <tr>\n",
       "      <th>9890</th>\n",
       "      <td>-0.701098</td>\n",
       "      <td>1.887675</td>\n",
       "      <td>-0.211811</td>\n",
       "      <td>-0.066875</td>\n",
       "      <td>-0.454972</td>\n",
       "      <td>-0.573694</td>\n",
       "      <td>-0.672122</td>\n",
       "    </tr>\n",
       "    <tr>\n",
       "      <th>...</th>\n",
       "      <td>...</td>\n",
       "      <td>...</td>\n",
       "      <td>...</td>\n",
       "      <td>...</td>\n",
       "      <td>...</td>\n",
       "      <td>...</td>\n",
       "      <td>...</td>\n",
       "    </tr>\n",
       "    <tr>\n",
       "      <th>3396</th>\n",
       "      <td>0.762232</td>\n",
       "      <td>0.307665</td>\n",
       "      <td>-0.185774</td>\n",
       "      <td>-0.066875</td>\n",
       "      <td>-0.454972</td>\n",
       "      <td>0.474300</td>\n",
       "      <td>0.573127</td>\n",
       "    </tr>\n",
       "    <tr>\n",
       "      <th>4035</th>\n",
       "      <td>-0.335265</td>\n",
       "      <td>-0.232865</td>\n",
       "      <td>0.309921</td>\n",
       "      <td>-0.066875</td>\n",
       "      <td>1.530702</td>\n",
       "      <td>-1.907504</td>\n",
       "      <td>1.962675</td>\n",
       "    </tr>\n",
       "    <tr>\n",
       "      <th>7918</th>\n",
       "      <td>-0.579154</td>\n",
       "      <td>-0.814973</td>\n",
       "      <td>-0.209254</td>\n",
       "      <td>-0.066875</td>\n",
       "      <td>-0.454972</td>\n",
       "      <td>-0.129090</td>\n",
       "      <td>-0.211368</td>\n",
       "    </tr>\n",
       "    <tr>\n",
       "      <th>9587</th>\n",
       "      <td>-0.335265</td>\n",
       "      <td>1.097670</td>\n",
       "      <td>0.049029</td>\n",
       "      <td>-0.066875</td>\n",
       "      <td>-0.454972</td>\n",
       "      <td>-1.716960</td>\n",
       "      <td>1.344166</td>\n",
       "    </tr>\n",
       "    <tr>\n",
       "      <th>9438</th>\n",
       "      <td>-0.701098</td>\n",
       "      <td>-0.814973</td>\n",
       "      <td>0.049029</td>\n",
       "      <td>-0.066875</td>\n",
       "      <td>0.537865</td>\n",
       "      <td>-1.145327</td>\n",
       "      <td>1.515946</td>\n",
       "    </tr>\n",
       "  </tbody>\n",
       "</table>\n",
       "<p>5270 rows × 7 columns</p>\n",
       "</div>"
      ],
      "text/plain": [
       "       Category      Size  Installs      Price  Content Rating    Genres  \\\n",
       "4362   0.152511  0.266086 -0.211341  20.456097       -0.454972  0.093211   \n",
       "10220  1.250009 -0.814973 -0.206645  -0.066875        2.523539  1.109448   \n",
       "2271   0.396399 -0.814973 -0.211837   0.086538       -0.454972  0.188483   \n",
       "2837   0.884176 -0.108127  0.309921  -0.066875       -0.454972  0.506057   \n",
       "9890  -0.701098  1.887675 -0.211811  -0.066875       -0.454972 -0.573694   \n",
       "...         ...       ...       ...        ...             ...       ...   \n",
       "3396   0.762232  0.307665 -0.185774  -0.066875       -0.454972  0.474300   \n",
       "4035  -0.335265 -0.232865  0.309921  -0.066875        1.530702 -1.907504   \n",
       "7918  -0.579154 -0.814973 -0.209254  -0.066875       -0.454972 -0.129090   \n",
       "9587  -0.335265  1.097670  0.049029  -0.066875       -0.454972 -1.716960   \n",
       "9438  -0.701098 -0.814973  0.049029  -0.066875        0.537865 -1.145327   \n",
       "\n",
       "       Reviews_log  \n",
       "4362     -0.216770  \n",
       "10220     0.508810  \n",
       "2271     -1.862631  \n",
       "2837      1.002569  \n",
       "9890     -0.672122  \n",
       "...            ...  \n",
       "3396      0.573127  \n",
       "4035      1.962675  \n",
       "7918     -0.211368  \n",
       "9587      1.344166  \n",
       "9438      1.515946  \n",
       "\n",
       "[5270 rows x 7 columns]"
      ]
     },
     "execution_count": 60,
     "metadata": {},
     "output_type": "execute_result"
    }
   ],
   "source": [
    "X_train_z"
   ]
  },
  {
   "cell_type": "markdown",
   "id": "c018b7b8",
   "metadata": {},
   "source": [
    "## Step 4: Model training and testing:"
   ]
  },
  {
   "cell_type": "markdown",
   "id": "85d18ca7",
   "metadata": {},
   "source": [
    "### 4.1 Function to fit and print model predictions"
   ]
  },
  {
   "cell_type": "markdown",
   "id": "fb803026",
   "metadata": {},
   "source": [
    "Since our target variable has a huge imbalance in classes, so we would have to observe confusion matrix and precision and recall scores instead of just the accuracy for model evaluation!"
   ]
  },
  {
   "cell_type": "code",
   "execution_count": 77,
   "id": "eeb73942",
   "metadata": {},
   "outputs": [],
   "source": [
    "def predict_model (model, X_train, y_train, X_test, y_test):\n",
    "    model.fit(X_train, y_train)\n",
    "    print('Train accuracy = ', model.score(X_train, y_train))  # performance on train data\n",
    "    print('Test accuracy = ', model.score(X_test, y_test))  # performance on test data\n",
    "    y_pred = model.predict(X_test)\n",
    "    print('Confusion Matrix: \\n', metrics.confusion_matrix(y_test, y_pred))\n",
    "    print('Classification Report: \\n',metrics.classification_report(y_test, y_pred))"
   ]
  },
  {
   "cell_type": "markdown",
   "id": "d0c483fd",
   "metadata": {},
   "source": [
    "### 4.2 Training various models"
   ]
  },
  {
   "cell_type": "markdown",
   "id": "99ebe63a",
   "metadata": {},
   "source": [
    "#### 4.2.1 Decision tree classifier"
   ]
  },
  {
   "cell_type": "code",
   "execution_count": 78,
   "id": "8a698950",
   "metadata": {},
   "outputs": [],
   "source": [
    "dec_tree = DecisionTreeClassifier(criterion = 'entropy')"
   ]
  },
  {
   "cell_type": "code",
   "execution_count": 79,
   "id": "c22f3c73",
   "metadata": {},
   "outputs": [
    {
     "name": "stdout",
     "output_type": "stream",
     "text": [
      "Train accuracy =  0.9977229601518026\n",
      "Test accuracy =  0.7797381900967558\n",
      "Confusion Matrix: \n",
      " [[  52  153]\n",
      " [ 234 1318]]\n",
      "Classification Report: \n",
      "               precision    recall  f1-score   support\n",
      "\n",
      "           0       0.18      0.25      0.21       205\n",
      "           1       0.90      0.85      0.87      1552\n",
      "\n",
      "    accuracy                           0.78      1757\n",
      "   macro avg       0.54      0.55      0.54      1757\n",
      "weighted avg       0.81      0.78      0.79      1757\n",
      "\n"
     ]
    }
   ],
   "source": [
    "predict_model(dec_tree, X_train_z, y_train, X_test_z, y_test)"
   ]
  },
  {
   "cell_type": "code",
   "execution_count": 91,
   "id": "6e01835a",
   "metadata": {},
   "outputs": [
    {
     "data": {
      "image/png": "[encoded data removed]",
      "text/plain": [
       "<Figure size 720x360 with 1 Axes>"
      ]
     },
     "metadata": {
      "needs_background": "light"
     },
     "output_type": "display_data"
    }
   ],
   "source": [
    "feature_importances = pd.DataFrame({'features': X_train.columns, 'Importance': dec_tree.feature_importances_})\n",
    "\n",
    "feature_importances = feature_importances.sort_values('Importance',ascending=False).reset_index(drop=True)\n",
    "\n",
    "\n",
    "plt.figure(figsize=(10,5))\n",
    "sns.barplot(x='Importance',y='features',data=feature_importances)\n",
    "plt.show()"
   ]
  },
  {
   "cell_type": "markdown",
   "id": "3ba6c82d",
   "metadata": {},
   "source": [
    "#### 4.2.2 Random Forest"
   ]
  },
  {
   "cell_type": "code",
   "execution_count": 80,
   "id": "94b7ce9c",
   "metadata": {},
   "outputs": [],
   "source": [
    "rf = RandomForestClassifier()"
   ]
  },
  {
   "cell_type": "code",
   "execution_count": 81,
   "id": "f9e3d91e",
   "metadata": {},
   "outputs": [
    {
     "name": "stdout",
     "output_type": "stream",
     "text": [
      "Train accuracy =  0.9908918406072106\n",
      "Test accuracy =  0.8725099601593626\n",
      "Confusion Matrix: \n",
      " [[   1  204]\n",
      " [  20 1532]]\n",
      "Classification Report: \n",
      "               precision    recall  f1-score   support\n",
      "\n",
      "           0       0.05      0.00      0.01       205\n",
      "           1       0.88      0.99      0.93      1552\n",
      "\n",
      "    accuracy                           0.87      1757\n",
      "   macro avg       0.47      0.50      0.47      1757\n",
      "weighted avg       0.79      0.87      0.82      1757\n",
      "\n"
     ]
    }
   ],
   "source": [
    "predict_model(rf, X_train_z, y_train, X_test_z, y_test)"
   ]
  },
  {
   "cell_type": "code",
   "execution_count": 92,
   "id": "9c989ab3",
   "metadata": {},
   "outputs": [
    {
     "data": {
      "image/png": "[encoded data removed]",
      "text/plain": [
       "<Figure size 720x360 with 1 Axes>"
      ]
     },
     "metadata": {
      "needs_background": "light"
     },
     "output_type": "display_data"
    }
   ],
   "source": [
    "feature_importances = pd.DataFrame({'features': X_train.columns, 'Importance': rf.feature_importances_})\n",
    "\n",
    "feature_importances = feature_importances.sort_values('Importance',ascending=False).reset_index(drop=True)\n",
    "\n",
    "\n",
    "plt.figure(figsize=(10,5))\n",
    "sns.barplot(x='Importance',y='features',data=feature_importances)\n",
    "plt.show()"
   ]
  },
  {
   "cell_type": "markdown",
   "id": "fbb1b076",
   "metadata": {},
   "source": [
    "#### 4.2.3 Bagging using Decision tree estimator"
   ]
  },
  {
   "cell_type": "code",
   "execution_count": 82,
   "id": "64f5db3c",
   "metadata": {},
   "outputs": [],
   "source": [
    "bgcl = BaggingClassifier(n_estimators=50, max_samples=0.8 , oob_score=True)\n",
    "# default base_estimator is decision tree"
   ]
  },
  {
   "cell_type": "code",
   "execution_count": 83,
   "id": "565af1bc",
   "metadata": {},
   "outputs": [
    {
     "name": "stdout",
     "output_type": "stream",
     "text": [
      "Train accuracy =  0.9929791271347248\n",
      "Test accuracy =  0.8571428571428571\n",
      "Confusion Matrix: \n",
      " [[  22  183]\n",
      " [  68 1484]]\n",
      "Classification Report: \n",
      "               precision    recall  f1-score   support\n",
      "\n",
      "           0       0.24      0.11      0.15       205\n",
      "           1       0.89      0.96      0.92      1552\n",
      "\n",
      "    accuracy                           0.86      1757\n",
      "   macro avg       0.57      0.53      0.54      1757\n",
      "weighted avg       0.81      0.86      0.83      1757\n",
      "\n"
     ]
    }
   ],
   "source": [
    "predict_model(bgcl, X_train_z, y_train, X_test_z, y_test)"
   ]
  },
  {
   "cell_type": "markdown",
   "id": "57ed43e6",
   "metadata": {},
   "source": [
    "#### 4.2.4 Boosting"
   ]
  },
  {
   "cell_type": "markdown",
   "id": "1d938543",
   "metadata": {},
   "source": [
    "#### a) Ada Boost Classifier"
   ]
  },
  {
   "cell_type": "code",
   "execution_count": 84,
   "id": "71b89833",
   "metadata": {},
   "outputs": [],
   "source": [
    "ada = AdaBoostClassifier(base_estimator=dec_tree, random_state=10, learning_rate=0.1)"
   ]
  },
  {
   "cell_type": "code",
   "execution_count": 85,
   "id": "06aaefdd",
   "metadata": {},
   "outputs": [
    {
     "name": "stdout",
     "output_type": "stream",
     "text": [
      "Train accuracy =  0.9977229601518026\n",
      "Test accuracy =  0.796812749003984\n",
      "Confusion Matrix: \n",
      " [[  33  172]\n",
      " [ 185 1367]]\n",
      "Classification Report: \n",
      "               precision    recall  f1-score   support\n",
      "\n",
      "           0       0.15      0.16      0.16       205\n",
      "           1       0.89      0.88      0.88      1552\n",
      "\n",
      "    accuracy                           0.80      1757\n",
      "   macro avg       0.52      0.52      0.52      1757\n",
      "weighted avg       0.80      0.80      0.80      1757\n",
      "\n"
     ]
    }
   ],
   "source": [
    "predict_model(ada, X_train_z, y_train, X_test_z, y_test)"
   ]
  },
  {
   "cell_type": "markdown",
   "id": "82872c45",
   "metadata": {},
   "source": [
    "#### b) Gradient Boost Classifier"
   ]
  },
  {
   "cell_type": "code",
   "execution_count": 86,
   "id": "01ec2d59",
   "metadata": {},
   "outputs": [],
   "source": [
    "gbcl = GradientBoostingClassifier(n_estimators = 50, learning_rate = 0.09, random_state=2)\n"
   ]
  },
  {
   "cell_type": "code",
   "execution_count": 87,
   "id": "c4924f5a",
   "metadata": {},
   "outputs": [
    {
     "name": "stdout",
     "output_type": "stream",
     "text": [
      "Train accuracy =  0.8842504743833017\n",
      "Test accuracy =  0.8793397837222539\n",
      "Confusion Matrix: \n",
      " [[  11  194]\n",
      " [  18 1534]]\n",
      "Classification Report: \n",
      "               precision    recall  f1-score   support\n",
      "\n",
      "           0       0.38      0.05      0.09       205\n",
      "           1       0.89      0.99      0.94      1552\n",
      "\n",
      "    accuracy                           0.88      1757\n",
      "   macro avg       0.63      0.52      0.51      1757\n",
      "weighted avg       0.83      0.88      0.84      1757\n",
      "\n"
     ]
    }
   ],
   "source": [
    "predict_model(gbcl, X_train_z, y_train, X_test_z, y_test)"
   ]
  },
  {
   "cell_type": "markdown",
   "id": "ba215b4a",
   "metadata": {},
   "source": [
    "#### 4.2.5 Stacked classifier using decision tree, logistic regression, AdaboostClassifier with final estimator as random forest"
   ]
  },
  {
   "cell_type": "code",
   "execution_count": 88,
   "id": "f92b29d3",
   "metadata": {},
   "outputs": [
    {
     "data": {
      "text/html": [
       "<style>#sk-container-id-2 {color: black;background-color: white;}#sk-container-id-2 pre{padding: 0;}#sk-container-id-2 div.sk-toggleable {background-color: white;}#sk-container-id-2 label.sk-toggleable__label {cursor: pointer;display: block;width: 100%;margin-bottom: 0;padding: 0.3em;box-sizing: border-box;text-align: center;}#sk-container-id-2 label.sk-toggleable__label-arrow:before {content: \"▸\";float: left;margin-right: 0.25em;color: #696969;}#sk-container-id-2 label.sk-toggleable__label-arrow:hover:before {color: black;}#sk-container-id-2 div.sk-estimator:hover label.sk-toggleable__label-arrow:before {color: black;}#sk-container-id-2 div.sk-toggleable__content {max-height: 0;max-width: 0;overflow: hidden;text-align: left;background-color: #f0f8ff;}#sk-container-id-2 div.sk-toggleable__content pre {margin: 0.2em;color: black;border-radius: 0.25em;background-color: #f0f8ff;}#sk-container-id-2 input.sk-toggleable__control:checked~div.sk-toggleable__content {max-height: 200px;max-width: 100%;overflow: auto;}#sk-container-id-2 input.sk-toggleable__control:checked~label.sk-toggleable__label-arrow:before {content: \"▾\";}#sk-container-id-2 div.sk-estimator input.sk-toggleable__control:checked~label.sk-toggleable__label {background-color: #d4ebff;}#sk-container-id-2 div.sk-label input.sk-toggleable__control:checked~label.sk-toggleable__label {background-color: #d4ebff;}#sk-container-id-2 input.sk-hidden--visually {border: 0;clip: rect(1px 1px 1px 1px);clip: rect(1px, 1px, 1px, 1px);height: 1px;margin: -1px;overflow: hidden;padding: 0;position: absolute;width: 1px;}#sk-container-id-2 div.sk-estimator {font-family: monospace;background-color: #f0f8ff;border: 1px dotted black;border-radius: 0.25em;box-sizing: border-box;margin-bottom: 0.5em;}#sk-container-id-2 div.sk-estimator:hover {background-color: #d4ebff;}#sk-container-id-2 div.sk-parallel-item::after {content: \"\";width: 100%;border-bottom: 1px solid gray;flex-grow: 1;}#sk-container-id-2 div.sk-label:hover label.sk-toggleable__label {background-color: #d4ebff;}#sk-container-id-2 div.sk-serial::before {content: \"\";position: absolute;border-left: 1px solid gray;box-sizing: border-box;top: 0;bottom: 0;left: 50%;z-index: 0;}#sk-container-id-2 div.sk-serial {display: flex;flex-direction: column;align-items: center;background-color: white;padding-right: 0.2em;padding-left: 0.2em;position: relative;}#sk-container-id-2 div.sk-item {position: relative;z-index: 1;}#sk-container-id-2 div.sk-parallel {display: flex;align-items: stretch;justify-content: center;background-color: white;position: relative;}#sk-container-id-2 div.sk-item::before, #sk-container-id-2 div.sk-parallel-item::before {content: \"\";position: absolute;border-left: 1px solid gray;box-sizing: border-box;top: 0;bottom: 0;left: 50%;z-index: -1;}#sk-container-id-2 div.sk-parallel-item {display: flex;flex-direction: column;z-index: 1;position: relative;background-color: white;}#sk-container-id-2 div.sk-parallel-item:first-child::after {align-self: flex-end;width: 50%;}#sk-container-id-2 div.sk-parallel-item:last-child::after {align-self: flex-start;width: 50%;}#sk-container-id-2 div.sk-parallel-item:only-child::after {width: 0;}#sk-container-id-2 div.sk-dashed-wrapped {border: 1px dashed gray;margin: 0 0.4em 0.5em 0.4em;box-sizing: border-box;padding-bottom: 0.4em;background-color: white;}#sk-container-id-2 div.sk-label label {font-family: monospace;font-weight: bold;display: inline-block;line-height: 1.2em;}#sk-container-id-2 div.sk-label-container {text-align: center;}#sk-container-id-2 div.sk-container {/* jupyter's `normalize.less` sets `[hidden] { display: none; }` but bootstrap.min.css set `[hidden] { display: none !important; }` so we also need the `!important` here to be able to override the default hidden behavior on the sphinx rendered scikit-learn.org. See: https://github.com/scikit-learn/scikit-learn/issues/21755 */display: inline-block !important;position: relative;}#sk-container-id-2 div.sk-text-repr-fallback {display: none;}</style><div id=\"sk-container-id-2\" class=\"sk-top-container\"><div class=\"sk-text-repr-fallback\"><pre>StackingClassifier(estimators=[(&#x27;rf&#x27;, RandomForestClassifier()),\n",
       "                               (&#x27;gbcl&#x27;,\n",
       "                                GradientBoostingClassifier(learning_rate=0.09,\n",
       "                                                           n_estimators=50,\n",
       "                                                           random_state=2))],\n",
       "                   final_estimator=LogisticRegression())</pre><b>In a Jupyter environment, please rerun this cell to show the HTML representation or trust the notebook. <br />On GitHub, the HTML representation is unable to render, please try loading this page with nbviewer.org.</b></div><div class=\"sk-container\" hidden><div class=\"sk-item sk-dashed-wrapped\"><div class=\"sk-label-container\"><div class=\"sk-label sk-toggleable\"><input class=\"sk-toggleable__control sk-hidden--visually\" id=\"sk-estimator-id-5\" type=\"checkbox\" ><label for=\"sk-estimator-id-5\" class=\"sk-toggleable__label sk-toggleable__label-arrow\">StackingClassifier</label><div class=\"sk-toggleable__content\"><pre>StackingClassifier(estimators=[(&#x27;rf&#x27;, RandomForestClassifier()),\n",
       "                               (&#x27;gbcl&#x27;,\n",
       "                                GradientBoostingClassifier(learning_rate=0.09,\n",
       "                                                           n_estimators=50,\n",
       "                                                           random_state=2))],\n",
       "                   final_estimator=LogisticRegression())</pre></div></div></div><div class=\"sk-serial\"><div class=\"sk-item\"><div class=\"sk-parallel\"><div class=\"sk-parallel-item\"><div class=\"sk-item\"><div class=\"sk-label-container\"><div class=\"sk-label sk-toggleable\"><label>rf</label></div></div><div class=\"sk-serial\"><div class=\"sk-item\"><div class=\"sk-estimator sk-toggleable\"><input class=\"sk-toggleable__control sk-hidden--visually\" id=\"sk-estimator-id-6\" type=\"checkbox\" ><label for=\"sk-estimator-id-6\" class=\"sk-toggleable__label sk-toggleable__label-arrow\">RandomForestClassifier</label><div class=\"sk-toggleable__content\"><pre>RandomForestClassifier()</pre></div></div></div></div></div></div><div class=\"sk-parallel-item\"><div class=\"sk-item\"><div class=\"sk-label-container\"><div class=\"sk-label sk-toggleable\"><label>gbcl</label></div></div><div class=\"sk-serial\"><div class=\"sk-item\"><div class=\"sk-estimator sk-toggleable\"><input class=\"sk-toggleable__control sk-hidden--visually\" id=\"sk-estimator-id-7\" type=\"checkbox\" ><label for=\"sk-estimator-id-7\" class=\"sk-toggleable__label sk-toggleable__label-arrow\">GradientBoostingClassifier</label><div class=\"sk-toggleable__content\"><pre>GradientBoostingClassifier(learning_rate=0.09, n_estimators=50, random_state=2)</pre></div></div></div></div></div></div></div></div><div class=\"sk-item\"><div class=\"sk-parallel\"><div class=\"sk-parallel-item\"><div class=\"sk-item\"><div class=\"sk-label-container\"><div class=\"sk-label sk-toggleable\"><label>final_estimator</label></div></div><div class=\"sk-serial\"><div class=\"sk-item\"><div class=\"sk-estimator sk-toggleable\"><input class=\"sk-toggleable__control sk-hidden--visually\" id=\"sk-estimator-id-8\" type=\"checkbox\" ><label for=\"sk-estimator-id-8\" class=\"sk-toggleable__label sk-toggleable__label-arrow\">LogisticRegression</label><div class=\"sk-toggleable__content\"><pre>LogisticRegression()</pre></div></div></div></div></div></div></div></div></div></div></div></div>"
      ],
      "text/plain": [
       "StackingClassifier(estimators=[('rf', RandomForestClassifier()),\n",
       "                               ('gbcl',\n",
       "                                GradientBoostingClassifier(learning_rate=0.09,\n",
       "                                                           n_estimators=50,\n",
       "                                                           random_state=2))],\n",
       "                   final_estimator=LogisticRegression())"
      ]
     },
     "execution_count": 88,
     "metadata": {},
     "output_type": "execute_result"
    }
   ],
   "source": [
    "sc = StackingClassifier(estimators=[('rf', rf), ('gbcl', gbcl)], final_estimator= LogisticRegression())\n",
    "sc"
   ]
  },
  {
   "cell_type": "code",
   "execution_count": 89,
   "id": "d298ab52",
   "metadata": {},
   "outputs": [
    {
     "name": "stdout",
     "output_type": "stream",
     "text": [
      "Train accuracy =  0.9055028462998103\n",
      "Test accuracy =  0.8736482640865111\n",
      "Confusion Matrix: \n",
      " [[   7  198]\n",
      " [  24 1528]]\n",
      "Classification Report: \n",
      "               precision    recall  f1-score   support\n",
      "\n",
      "           0       0.23      0.03      0.06       205\n",
      "           1       0.89      0.98      0.93      1552\n",
      "\n",
      "    accuracy                           0.87      1757\n",
      "   macro avg       0.56      0.51      0.50      1757\n",
      "weighted avg       0.81      0.87      0.83      1757\n",
      "\n"
     ]
    }
   ],
   "source": [
    "predict_model(sc, X_train_z, y_train, X_test_z, y_test)"
   ]
  },
  {
   "cell_type": "markdown",
   "id": "d511264f",
   "metadata": {},
   "source": [
    "## Step 5: Conclusion and improvisation"
   ]
  },
  {
   "cell_type": "markdown",
   "id": "a8d3dddf",
   "metadata": {},
   "source": [
    "- From the accuracy of all models except gradient boost and stacking classifier, we can see that train accuracy is very high as compared to test accuracy which clearly shows overfitting.\n",
    "- Also, observing the confusion matrix of all models, we see very poor precision score for the undersampled class(ie. very low TP and high FP)"
   ]
  },
  {
   "cell_type": "markdown",
   "id": "1385a6d5",
   "metadata": {},
   "source": [
    "Comparing model performances:\n",
    "- Decision tree has performed most poorly, showing both overfitting as well as poor test performance\n",
    "  (Perf. can be improved using optimal tuning methods)\n",
    "- Random forest and Bagging models show better test accuracies as compared to decision tree but still show overfitting.\n",
    "- Boosting models:\n",
    "  Gradient boosting performed better than ada boost as it is able to avoid overfitting ie. it performs equally in train and       test sets although the problem of poor scores for undersampled class persists.\n",
    "- Stacking classifier shows similar test performance as random forest but is able to reduce overfitting to an extent."
   ]
  },
  {
   "cell_type": "markdown",
   "id": "bbb04b62",
   "metadata": {},
   "source": [
    "Improvisation for better model performances:\n",
    "- To avoid overfitting, we can use hyperparameter tuning of the models.\n",
    "  eg: providing max_depth in decision tree model\n",
    "- We can also employ various feature engineering techniques to select best features which will help avoid overfitting! \n",
    "- For improving scores of the class having less samples, we can use oversampling methods like SMOTE or RandomOversampler for balancing the classes."
   ]
  },
  {
   "cell_type": "markdown",
   "id": "f9a296b2",
   "metadata": {},
   "source": [
    "### Conclusion:\n",
    "- Decision Tree, Random Forest and Bagging models show overfitting.\n",
    "- The **best performing model** is **Gradient Boost** having 88% accuracy without overfitting.\n",
    "- **Number of Reviews** and **Size of the app** contribute the most in predicting rating of an app followed by **Genre**, **Number of downloads** and **Category** \n",
    "- **Future Improvisation** - Although most models are able to predict with an accuarcy of above 80%, the dataset is highly imbalanced and therefore we need to balance the class in order to improve the precision for minority class. (accuracy will be baised towards majority class)"
   ]
  }
 ],
 "metadata": {
  "kernelspec": {
   "display_name": "Python 3 (ipykernel)",
   "language": "python",
   "name": "python3"
  },
  "language_info": {
   "codemirror_mode": {
    "name": "ipython",
    "version": 3
   },
   "file_extension": ".py",
   "mimetype": "text/x-python",
   "name": "python",
   "nbconvert_exporter": "python",
   "pygments_lexer": "ipython3",
   "version": "3.9.7"
  }
 },
 "nbformat": 4,
 "nbformat_minor": 5
}
